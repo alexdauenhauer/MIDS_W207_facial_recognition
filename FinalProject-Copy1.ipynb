{
 "cells": [
  {
   "cell_type": "markdown",
   "metadata": {},
   "source": [
    "# W207 Final Project: Facial Recognition"
   ]
  },
  {
   "cell_type": "markdown",
   "metadata": {
    "heading_collapsed": true
   },
   "source": [
    "### Team: MapReduce, MapReuse, MapRecycle\n",
    "Members: Tennison Yu, Madeleine Bulkow, Mark Paluta, Alex Dauenhauer"
   ]
  },
  {
   "cell_type": "markdown",
   "metadata": {
    "hidden": true
   },
   "source": [
    "https://github.com/tyu0912/207_facial_recognition/tree/master\n",
    "https://github.com/tyu0912/MIDS_W207_facial_recognition/issues"
   ]
  },
  {
   "cell_type": "markdown",
   "metadata": {},
   "source": [
    "## Introduction"
   ]
  },
  {
   "cell_type": "markdown",
   "metadata": {},
   "source": [
    "This is the final project submission from Team MapReduce,MapReuse,MapRecycle for W207: Applied Machine Learning as part of the MIDS program at UC Berkeley. We are working with data from https://www.kaggle.com/c/facial-keypoints-detection/data and the goal is to accurately identify facial features on an (x, y) coordinate system based on an input image. \n",
    "\n",
    "## Communicate on SLACK when working on main notebook as much as possible\n",
    "\n",
    "*Data Observations*\n",
    "- There are half face images, etc\n",
    "\n",
    "*Ideas to try*\n",
    "- Use other features to predict one specific feature\n",
    "\n",
    "- Break out the image into its own matrix where each pixel is a feature and then predict each facial characteristic position\n",
    "    - First use subset of images that contain all key points and then just predict the locations. \n",
    "\n",
    "*Feature Improvement Ideas*\n",
    "- mirror images - ALEX\n",
    "- gaussian blur - MADDIE\n",
    "- translation\n",
    "- small rotation -MARK\n",
    "- Maybe normally the pixel values by average pixel shade of every picture\n",
    "- Compressing 256 base image to 16 base image. Just black and white? Interval of -1 to 1? - MADDIE\n",
    "- normalize gray values across population / scale brightness - TENNISON\n",
    "\n",
    "*Knockout List/Plan*\n",
    "- Print first 10-20 images generally. - DONE\n",
    "- Print edge cases for different facial feature locations. - MARK\n",
    "- Very basic test with a couple different basic algorithms. - MARK\n",
    "- Start with very basic one hidden layer perception \n",
    "- Improve neural network to be CNN architecture. \n",
    "- Prepare a summary table of quality metrics: L2 distance, L1 distance\n",
    "- use graphviz feature to visualize the model - ALEX\n",
    "- Visualizations of how the model is training\n",
    "- How does samples size / filter number / number of layers affect performance?\n",
    "\n",
    "*Things to think about*\n",
    "- separate augmented data sets as well as full data set of all augmentations\n",
    "- Possible DOE for toggling features\n",
    "- consider how to do the presentation --> slides, or notebook?\n",
    "\n",
    "*Naming/Working Rules*\n",
    "- train_data, train_labels\n",
    "- dev_data, dev_labels\n",
    "\n",
    "- Feature Engineering: put \"_transformation done\". Ex: train_data_blur\n",
    "\n",
    "\n",
    "*Useful Items*\n",
    "- Learn Keras\n",
    "- https://www.kaggle.com/c/facial-keypoints-detection#getting-started-with-r\n",
    "- http://adventuresinmachinelearning.com/keras-tutorial-cnn-11-lines/\n",
    "- https://en.wikipedia.org/wiki/K-nearest_neighbors_algorithm#k-NN_regression\n",
    "- http://www.eurecom.fr/en/publication/4768/download/mm-publi-4768.pdf\n",
    "- https://machinelearningmastery.com/grid-search-hyperparameters-deep-learning-models-python-keras/\n",
    "\n",
    "*Tennison Merge Notes*\n",
    "- Need to make the output part of the algorithm\n",
    "- The simple algorithm part needs to be fleshed out. Hyperparameter tuning?\n",
    "- More transformations perhaps?\n",
    "- Do we still want to do the simple neural net?\n",
    "- Do we still want to play around with having more graphs to show training time, etc. "
   ]
  },
  {
   "cell_type": "markdown",
   "metadata": {},
   "source": [
    "## Data "
   ]
  },
  {
   "cell_type": "markdown",
   "metadata": {},
   "source": [
    "### Loading datasets and packages"
   ]
  },
  {
   "cell_type": "markdown",
   "metadata": {},
   "source": [
    "keep import cell\n",
    "- plan is to split train and dev data and use `validation_data` in fit"
   ]
  },
  {
   "cell_type": "code",
   "execution_count": 1,
   "metadata": {
    "ExecuteTime": {
     "end_time": "2018-11-27T14:12:23.417214Z",
     "start_time": "2018-11-27T14:12:17.500036Z"
    }
   },
   "outputs": [
    {
     "name": "stderr",
     "output_type": "stream",
     "text": [
      "Using TensorFlow backend.\n"
     ]
    },
    {
     "name": "stdout",
     "output_type": "stream",
     "text": [
      "keras version: 2.2.4\n",
      "tensorflow version: 1.12.0\n",
      "pandas version: 0.23.4\n",
      "numpy version: 1.15.4\n"
     ]
    }
   ],
   "source": [
    "import time, os, keras, tensorflow as tf, decimal, warnings, imgaug as ia\n",
    "import numpy as np, pandas as pd, matplotlib.pyplot as plt\n",
    "from sklearn.utils import shuffle\n",
    "from keras.layers import Dense, Flatten, Dropout, Conv2D, MaxPooling2D\n",
    "from keras.models import Sequential\n",
    "from keras.utils import plot_model\n",
    "from keras.wrappers.scikit_learn import KerasClassifier, KerasRegressor\n",
    "from sklearn.model_selection import train_test_split\n",
    "from sklearn.linear_model import LinearRegression\n",
    "from sklearn.tree import DecisionTreeRegressor\n",
    "from sklearn.neighbors import KNeighborsRegressor\n",
    "from sklearn.metrics import make_scorer, mean_squared_error\n",
    "from sklearn.model_selection import GridSearchCV\n",
    "from scipy import stats\n",
    "from imgaug import augmenters as iaa\n",
    "\n",
    "print('keras version:', keras.__version__)\n",
    "print('tensorflow version:', tf.__version__)\n",
    "print('pandas version:', pd.__version__)\n",
    "print('numpy version:', np.__version__)\n",
    "\n",
    "# Initiate settings and load the data.\n",
    "np.random.seed(0)\n",
    "pd.options.display.max_columns = 30\n",
    "warnings.filterwarnings('ignore')\n",
    "\n",
    "train = pd.read_csv('training.csv')\n",
    "test = pd.read_csv('test.csv')\n",
    "features = train.columns[:-1]"
   ]
  },
  {
   "cell_type": "markdown",
   "metadata": {},
   "source": [
    "### Glancing at the Data"
   ]
  },
  {
   "cell_type": "code",
   "execution_count": 2,
   "metadata": {},
   "outputs": [
    {
     "name": "stdout",
     "output_type": "stream",
     "text": [
      "Sample Training Labels\n"
     ]
    },
    {
     "data": {
      "text/html": [
       "<div>\n",
       "<style scoped>\n",
       "    .dataframe tbody tr th:only-of-type {\n",
       "        vertical-align: middle;\n",
       "    }\n",
       "\n",
       "    .dataframe tbody tr th {\n",
       "        vertical-align: top;\n",
       "    }\n",
       "\n",
       "    .dataframe thead th {\n",
       "        text-align: right;\n",
       "    }\n",
       "</style>\n",
       "<table border=\"1\" class=\"dataframe\">\n",
       "  <thead>\n",
       "    <tr style=\"text-align: right;\">\n",
       "      <th></th>\n",
       "      <th>left_eye_center_x</th>\n",
       "      <th>left_eye_center_y</th>\n",
       "      <th>right_eye_center_x</th>\n",
       "      <th>right_eye_center_y</th>\n",
       "      <th>left_eye_inner_corner_x</th>\n",
       "      <th>left_eye_inner_corner_y</th>\n",
       "      <th>left_eye_outer_corner_x</th>\n",
       "      <th>left_eye_outer_corner_y</th>\n",
       "      <th>right_eye_inner_corner_x</th>\n",
       "      <th>right_eye_inner_corner_y</th>\n",
       "      <th>right_eye_outer_corner_x</th>\n",
       "      <th>right_eye_outer_corner_y</th>\n",
       "      <th>left_eyebrow_inner_end_x</th>\n",
       "      <th>left_eyebrow_inner_end_y</th>\n",
       "      <th>left_eyebrow_outer_end_x</th>\n",
       "      <th>left_eyebrow_outer_end_y</th>\n",
       "      <th>right_eyebrow_inner_end_x</th>\n",
       "      <th>right_eyebrow_inner_end_y</th>\n",
       "      <th>right_eyebrow_outer_end_x</th>\n",
       "      <th>right_eyebrow_outer_end_y</th>\n",
       "      <th>nose_tip_x</th>\n",
       "      <th>nose_tip_y</th>\n",
       "      <th>mouth_left_corner_x</th>\n",
       "      <th>mouth_left_corner_y</th>\n",
       "      <th>mouth_right_corner_x</th>\n",
       "      <th>mouth_right_corner_y</th>\n",
       "      <th>mouth_center_top_lip_x</th>\n",
       "      <th>mouth_center_top_lip_y</th>\n",
       "      <th>mouth_center_bottom_lip_x</th>\n",
       "      <th>mouth_center_bottom_lip_y</th>\n",
       "    </tr>\n",
       "  </thead>\n",
       "  <tbody>\n",
       "    <tr>\n",
       "      <th>0</th>\n",
       "      <td>66.033564</td>\n",
       "      <td>39.002274</td>\n",
       "      <td>30.227008</td>\n",
       "      <td>36.421678</td>\n",
       "      <td>59.582075</td>\n",
       "      <td>39.647423</td>\n",
       "      <td>73.130346</td>\n",
       "      <td>39.969997</td>\n",
       "      <td>36.356571</td>\n",
       "      <td>37.389402</td>\n",
       "      <td>23.452872</td>\n",
       "      <td>37.389402</td>\n",
       "      <td>56.953263</td>\n",
       "      <td>29.033648</td>\n",
       "      <td>80.227128</td>\n",
       "      <td>32.228138</td>\n",
       "      <td>40.227609</td>\n",
       "      <td>29.002322</td>\n",
       "      <td>16.356379</td>\n",
       "      <td>29.647471</td>\n",
       "      <td>44.420571</td>\n",
       "      <td>57.066803</td>\n",
       "      <td>61.195308</td>\n",
       "      <td>79.970165</td>\n",
       "      <td>28.614496</td>\n",
       "      <td>77.388992</td>\n",
       "      <td>43.312602</td>\n",
       "      <td>72.935459</td>\n",
       "      <td>43.130707</td>\n",
       "      <td>84.485774</td>\n",
       "    </tr>\n",
       "    <tr>\n",
       "      <th>1</th>\n",
       "      <td>64.332936</td>\n",
       "      <td>34.970077</td>\n",
       "      <td>29.949277</td>\n",
       "      <td>33.448715</td>\n",
       "      <td>58.856170</td>\n",
       "      <td>35.274349</td>\n",
       "      <td>70.722723</td>\n",
       "      <td>36.187166</td>\n",
       "      <td>36.034723</td>\n",
       "      <td>34.361532</td>\n",
       "      <td>24.472511</td>\n",
       "      <td>33.144443</td>\n",
       "      <td>53.987404</td>\n",
       "      <td>28.275949</td>\n",
       "      <td>78.634213</td>\n",
       "      <td>30.405923</td>\n",
       "      <td>42.728851</td>\n",
       "      <td>26.146043</td>\n",
       "      <td>16.865362</td>\n",
       "      <td>27.058860</td>\n",
       "      <td>48.206298</td>\n",
       "      <td>55.660936</td>\n",
       "      <td>56.421447</td>\n",
       "      <td>76.352000</td>\n",
       "      <td>35.122383</td>\n",
       "      <td>76.047660</td>\n",
       "      <td>46.684596</td>\n",
       "      <td>70.266553</td>\n",
       "      <td>45.467915</td>\n",
       "      <td>85.480170</td>\n",
       "    </tr>\n",
       "    <tr>\n",
       "      <th>2</th>\n",
       "      <td>65.057053</td>\n",
       "      <td>34.909642</td>\n",
       "      <td>30.903789</td>\n",
       "      <td>34.909642</td>\n",
       "      <td>59.412000</td>\n",
       "      <td>36.320968</td>\n",
       "      <td>70.984421</td>\n",
       "      <td>36.320968</td>\n",
       "      <td>37.678105</td>\n",
       "      <td>36.320968</td>\n",
       "      <td>24.976421</td>\n",
       "      <td>36.603221</td>\n",
       "      <td>55.742526</td>\n",
       "      <td>27.570947</td>\n",
       "      <td>78.887368</td>\n",
       "      <td>32.651621</td>\n",
       "      <td>42.193895</td>\n",
       "      <td>28.135453</td>\n",
       "      <td>16.791158</td>\n",
       "      <td>32.087116</td>\n",
       "      <td>47.557263</td>\n",
       "      <td>53.538947</td>\n",
       "      <td>60.822947</td>\n",
       "      <td>73.014316</td>\n",
       "      <td>33.726316</td>\n",
       "      <td>72.732000</td>\n",
       "      <td>47.274947</td>\n",
       "      <td>70.191789</td>\n",
       "      <td>47.274947</td>\n",
       "      <td>78.659368</td>\n",
       "    </tr>\n",
       "    <tr>\n",
       "      <th>3</th>\n",
       "      <td>65.225739</td>\n",
       "      <td>37.261774</td>\n",
       "      <td>32.023096</td>\n",
       "      <td>37.261774</td>\n",
       "      <td>60.003339</td>\n",
       "      <td>39.127179</td>\n",
       "      <td>72.314713</td>\n",
       "      <td>38.380967</td>\n",
       "      <td>37.618643</td>\n",
       "      <td>38.754115</td>\n",
       "      <td>25.307270</td>\n",
       "      <td>38.007903</td>\n",
       "      <td>56.433809</td>\n",
       "      <td>30.929864</td>\n",
       "      <td>77.910261</td>\n",
       "      <td>31.665725</td>\n",
       "      <td>41.671513</td>\n",
       "      <td>31.049990</td>\n",
       "      <td>20.458017</td>\n",
       "      <td>29.909343</td>\n",
       "      <td>51.885078</td>\n",
       "      <td>54.166539</td>\n",
       "      <td>65.598887</td>\n",
       "      <td>72.703722</td>\n",
       "      <td>37.245496</td>\n",
       "      <td>74.195478</td>\n",
       "      <td>50.303165</td>\n",
       "      <td>70.091687</td>\n",
       "      <td>51.561183</td>\n",
       "      <td>78.268383</td>\n",
       "    </tr>\n",
       "    <tr>\n",
       "      <th>4</th>\n",
       "      <td>66.725301</td>\n",
       "      <td>39.621261</td>\n",
       "      <td>32.244810</td>\n",
       "      <td>38.042032</td>\n",
       "      <td>58.565890</td>\n",
       "      <td>39.621261</td>\n",
       "      <td>72.515926</td>\n",
       "      <td>39.884466</td>\n",
       "      <td>36.982380</td>\n",
       "      <td>39.094852</td>\n",
       "      <td>22.506110</td>\n",
       "      <td>38.305237</td>\n",
       "      <td>57.249571</td>\n",
       "      <td>30.672177</td>\n",
       "      <td>77.762945</td>\n",
       "      <td>31.737247</td>\n",
       "      <td>38.035436</td>\n",
       "      <td>30.935382</td>\n",
       "      <td>15.925870</td>\n",
       "      <td>30.672177</td>\n",
       "      <td>43.299534</td>\n",
       "      <td>64.889521</td>\n",
       "      <td>60.671411</td>\n",
       "      <td>77.523239</td>\n",
       "      <td>31.191755</td>\n",
       "      <td>76.997301</td>\n",
       "      <td>44.962748</td>\n",
       "      <td>73.707387</td>\n",
       "      <td>44.227141</td>\n",
       "      <td>86.871166</td>\n",
       "    </tr>\n",
       "  </tbody>\n",
       "</table>\n",
       "</div>"
      ],
      "text/plain": [
       "   left_eye_center_x  left_eye_center_y  right_eye_center_x  \\\n",
       "0          66.033564          39.002274           30.227008   \n",
       "1          64.332936          34.970077           29.949277   \n",
       "2          65.057053          34.909642           30.903789   \n",
       "3          65.225739          37.261774           32.023096   \n",
       "4          66.725301          39.621261           32.244810   \n",
       "\n",
       "   right_eye_center_y  left_eye_inner_corner_x  left_eye_inner_corner_y  \\\n",
       "0           36.421678                59.582075                39.647423   \n",
       "1           33.448715                58.856170                35.274349   \n",
       "2           34.909642                59.412000                36.320968   \n",
       "3           37.261774                60.003339                39.127179   \n",
       "4           38.042032                58.565890                39.621261   \n",
       "\n",
       "   left_eye_outer_corner_x  left_eye_outer_corner_y  right_eye_inner_corner_x  \\\n",
       "0                73.130346                39.969997                 36.356571   \n",
       "1                70.722723                36.187166                 36.034723   \n",
       "2                70.984421                36.320968                 37.678105   \n",
       "3                72.314713                38.380967                 37.618643   \n",
       "4                72.515926                39.884466                 36.982380   \n",
       "\n",
       "   right_eye_inner_corner_y  right_eye_outer_corner_x  \\\n",
       "0                 37.389402                 23.452872   \n",
       "1                 34.361532                 24.472511   \n",
       "2                 36.320968                 24.976421   \n",
       "3                 38.754115                 25.307270   \n",
       "4                 39.094852                 22.506110   \n",
       "\n",
       "   right_eye_outer_corner_y  left_eyebrow_inner_end_x  \\\n",
       "0                 37.389402                 56.953263   \n",
       "1                 33.144443                 53.987404   \n",
       "2                 36.603221                 55.742526   \n",
       "3                 38.007903                 56.433809   \n",
       "4                 38.305237                 57.249571   \n",
       "\n",
       "   left_eyebrow_inner_end_y  left_eyebrow_outer_end_x  \\\n",
       "0                 29.033648                 80.227128   \n",
       "1                 28.275949                 78.634213   \n",
       "2                 27.570947                 78.887368   \n",
       "3                 30.929864                 77.910261   \n",
       "4                 30.672177                 77.762945   \n",
       "\n",
       "   left_eyebrow_outer_end_y  right_eyebrow_inner_end_x  \\\n",
       "0                 32.228138                  40.227609   \n",
       "1                 30.405923                  42.728851   \n",
       "2                 32.651621                  42.193895   \n",
       "3                 31.665725                  41.671513   \n",
       "4                 31.737247                  38.035436   \n",
       "\n",
       "   right_eyebrow_inner_end_y  right_eyebrow_outer_end_x  \\\n",
       "0                  29.002322                  16.356379   \n",
       "1                  26.146043                  16.865362   \n",
       "2                  28.135453                  16.791158   \n",
       "3                  31.049990                  20.458017   \n",
       "4                  30.935382                  15.925870   \n",
       "\n",
       "   right_eyebrow_outer_end_y  nose_tip_x  nose_tip_y  mouth_left_corner_x  \\\n",
       "0                  29.647471   44.420571   57.066803            61.195308   \n",
       "1                  27.058860   48.206298   55.660936            56.421447   \n",
       "2                  32.087116   47.557263   53.538947            60.822947   \n",
       "3                  29.909343   51.885078   54.166539            65.598887   \n",
       "4                  30.672177   43.299534   64.889521            60.671411   \n",
       "\n",
       "   mouth_left_corner_y  mouth_right_corner_x  mouth_right_corner_y  \\\n",
       "0            79.970165             28.614496             77.388992   \n",
       "1            76.352000             35.122383             76.047660   \n",
       "2            73.014316             33.726316             72.732000   \n",
       "3            72.703722             37.245496             74.195478   \n",
       "4            77.523239             31.191755             76.997301   \n",
       "\n",
       "   mouth_center_top_lip_x  mouth_center_top_lip_y  mouth_center_bottom_lip_x  \\\n",
       "0               43.312602               72.935459                  43.130707   \n",
       "1               46.684596               70.266553                  45.467915   \n",
       "2               47.274947               70.191789                  47.274947   \n",
       "3               50.303165               70.091687                  51.561183   \n",
       "4               44.962748               73.707387                  44.227141   \n",
       "\n",
       "   mouth_center_bottom_lip_y  \n",
       "0                  84.485774  \n",
       "1                  85.480170  \n",
       "2                  78.659368  \n",
       "3                  78.268383  \n",
       "4                  86.871166  "
      ]
     },
     "execution_count": 2,
     "metadata": {},
     "output_type": "execute_result"
    }
   ],
   "source": [
    "print('Sample Training Labels')\n",
    "train[train.columns[:-1]].head(5)"
   ]
  },
  {
   "cell_type": "code",
   "execution_count": 3,
   "metadata": {},
   "outputs": [
    {
     "name": "stdout",
     "output_type": "stream",
     "text": [
      "Sample Image Pixels\n"
     ]
    },
    {
     "data": {
      "text/plain": [
       "0    238 236 237 238 240 240 239 241 241 243 240 23...\n",
       "1    219 215 204 196 204 211 212 200 180 168 178 19...\n",
       "2    144 142 159 180 188 188 184 180 167 132 84 59 ...\n",
       "3    193 192 193 194 194 194 193 192 168 111 50 12 ...\n",
       "4    147 148 160 196 215 214 216 217 219 220 206 18...\n",
       "Name: Image, dtype: object"
      ]
     },
     "execution_count": 3,
     "metadata": {},
     "output_type": "execute_result"
    }
   ],
   "source": [
    "print('Sample Image Pixels')\n",
    "train['Image'].head(5)"
   ]
  },
  {
   "cell_type": "markdown",
   "metadata": {},
   "source": [
    "### Splitting the Data"
   ]
  },
  {
   "cell_type": "markdown",
   "metadata": {},
   "source": [
    "- for keras model we need numpy array of shape = (X, 96, 96, 1)\n",
    "- test how the model works with NAs included and with them removed --> custom loss function Maddie\n",
    "- We will split train and test data in the loading function and use `validation_data` arg in keras"
   ]
  },
  {
   "cell_type": "code",
   "execution_count": 4,
   "metadata": {
    "ExecuteTime": {
     "end_time": "2018-11-27T14:16:07.103661Z",
     "start_time": "2018-11-27T14:15:13.017383Z"
    }
   },
   "outputs": [],
   "source": [
    "def process_datasets(df, test=False):\n",
    "    # Missing Data Handling:\n",
    "    #df = df.fillna(0)\n",
    "    #df = df.dropna()\n",
    "    \n",
    "    facial_point_labels = df.iloc[:, :-1]\n",
    "    images_pixel_feature = df.Image.apply(lambda im: np.fromstring(im, sep=' '))\n",
    "    \n",
    "    # separate data and reshape the images\n",
    "    images_pixel_feature = np.stack(images_pixel_feature) / 255\n",
    "    images_pixel_feature = images_pixel_feature.reshape(-1, 96, 96, 1)\n",
    "    \n",
    "    # separate the labels and scale them to [-1,1] interval\n",
    "    if not test:\n",
    "        facial_point_labels = facial_point_labels.values\n",
    "        facial_point_labels = (facial_point_labels - 48) / 48\n",
    "    \n",
    "    return images_pixel_feature, facial_point_labels\n",
    "\n",
    "train_all_features, train_all_labels = process_datasets(train)"
   ]
  },
  {
   "cell_type": "code",
   "execution_count": 5,
   "metadata": {},
   "outputs": [
    {
     "name": "stdout",
     "output_type": "stream",
     "text": [
      "\n",
      "Train data shape (5639, 96, 96, 1)\n",
      "Dev data shape (1410, 96, 96, 1)\n",
      "Train labels shape (5639, 30)\n",
      "Dev labels shape (1410, 30)\n",
      "\n",
      "Data Generation Finished\n"
     ]
    }
   ],
   "source": [
    "# 20% of the data will go to dev\n",
    "percent_to_dev = 0.2 \n",
    "\n",
    "train_data, dev_data, train_labels, dev_labels = train_test_split(train_all_features, train_all_labels, test_size=percent_to_dev)\n",
    "test_data, test_labels = process_datasets(test)\n",
    "\n",
    "print(\"\\nTrain data shape\", train_data.shape)\n",
    "print(\"Dev data shape\", dev_data.shape)\n",
    "print(\"Train labels shape\", train_labels.shape)\n",
    "print(\"Dev labels shape\", dev_labels.shape)\n",
    "\n",
    "print(\"\\nData Generation Finished\")"
   ]
  },
  {
   "cell_type": "markdown",
   "metadata": {},
   "source": [
    "### Checking Images and Features"
   ]
  },
  {
   "cell_type": "code",
   "execution_count": 6,
   "metadata": {
    "ExecuteTime": {
     "end_time": "2018-11-27T14:13:52.087112Z",
     "start_time": "2018-11-27T14:13:52.076305Z"
    }
   },
   "outputs": [],
   "source": [
    "def plot_sample(data, labels):\n",
    "    '''\n",
    "    data must be a numpy.ndarray of shape (X, 96, 96, 1)\n",
    "    labels must be a numpy.ndarray (X, 30)\n",
    "    the indices must line up between the two\n",
    "    \n",
    "    need to update to handle any square number of images\n",
    "    '''\n",
    "    \n",
    "    fig = plt.figure(figsize=(10,10))\n",
    "    fig.subplots_adjust(left=0, right=1, bottom=0, top=1, hspace=0.05, wspace=0.05)\n",
    "    for i in range(labels.shape[0]):\n",
    "        img = data[i].reshape(96,96)\n",
    "        ax = fig.add_subplot(4, 4, i + 1, xticks=[], yticks=[])\n",
    "        ax.imshow(data[i].reshape(96,96), cmap='gray')\n",
    "        ax.scatter(labels[i][0::2] * 48 + 48, labels[i][1::2] * 48 + 48, c='r')"
   ]
  },
  {
   "cell_type": "code",
   "execution_count": 7,
   "metadata": {},
   "outputs": [
    {
     "data": {
      "image/png": "[encoded data removed]",
      "text/plain": [
       "<Figure size 720x720 with 16 Axes>"
      ]
     },
     "metadata": {},
     "output_type": "display_data"
    }
   ],
   "source": [
    "# Output 16 random images. Some of these will be the NA data\n",
    "\n",
    "idx = np.random.randint(0, len(train_data), 16)\n",
    "data_sample = train_data[idx, :, :, :]\n",
    "label_sample = train_labels[idx, :]\n",
    "\n",
    "plot_sample(data_sample, label_sample)"
   ]
  },
  {
   "cell_type": "code",
   "execution_count": 8,
   "metadata": {},
   "outputs": [
    {
     "ename": "AttributeError",
     "evalue": "'numpy.ndarray' object has no attribute 'nose_tip_x'",
     "output_type": "error",
     "traceback": [
      "\u001b[1;31m---------------------------------------------------------------------------\u001b[0m",
      "\u001b[1;31mAttributeError\u001b[0m                            Traceback (most recent call last)",
      "\u001b[1;32m<ipython-input-8-142ca0aedfaf>\u001b[0m in \u001b[0;36m<module>\u001b[1;34m\u001b[0m\n\u001b[0;32m     11\u001b[0m \u001b[1;33m\u001b[0m\u001b[0m\n\u001b[0;32m     12\u001b[0m \u001b[1;31m# compile interesting cases\u001b[0m\u001b[1;33m\u001b[0m\u001b[1;33m\u001b[0m\u001b[1;33m\u001b[0m\u001b[0m\n\u001b[1;32m---> 13\u001b[1;33m \u001b[0minteresting_cases\u001b[0m\u001b[1;33m.\u001b[0m\u001b[0mextend\u001b[0m\u001b[1;33m(\u001b[0m\u001b[0mtrain_labels\u001b[0m\u001b[1;33m.\u001b[0m\u001b[0mnose_tip_x\u001b[0m\u001b[1;33m.\u001b[0m\u001b[0mnsmallest\u001b[0m\u001b[1;33m(\u001b[0m\u001b[1;36m2\u001b[0m\u001b[1;33m)\u001b[0m\u001b[1;33m.\u001b[0m\u001b[0mkeys\u001b[0m\u001b[1;33m(\u001b[0m\u001b[1;33m)\u001b[0m\u001b[1;33m)\u001b[0m          \u001b[1;31m# noses near left of screen\u001b[0m\u001b[1;33m\u001b[0m\u001b[1;33m\u001b[0m\u001b[0m\n\u001b[0m\u001b[0;32m     14\u001b[0m \u001b[0minteresting_cases\u001b[0m\u001b[1;33m.\u001b[0m\u001b[0mextend\u001b[0m\u001b[1;33m(\u001b[0m\u001b[0mtrain_labels\u001b[0m\u001b[1;33m.\u001b[0m\u001b[0mnose_tip_x\u001b[0m\u001b[1;33m.\u001b[0m\u001b[0mnlargest\u001b[0m\u001b[1;33m(\u001b[0m\u001b[1;36m2\u001b[0m\u001b[1;33m)\u001b[0m\u001b[1;33m.\u001b[0m\u001b[0mkeys\u001b[0m\u001b[1;33m(\u001b[0m\u001b[1;33m)\u001b[0m\u001b[1;33m)\u001b[0m           \u001b[1;31m# noses near right of screen\u001b[0m\u001b[1;33m\u001b[0m\u001b[1;33m\u001b[0m\u001b[0m\n\u001b[0;32m     15\u001b[0m \u001b[0minteresting_cases\u001b[0m\u001b[1;33m.\u001b[0m\u001b[0mextend\u001b[0m\u001b[1;33m(\u001b[0m\u001b[0mtrain_labels\u001b[0m\u001b[1;33m.\u001b[0m\u001b[0mnose_tip_y\u001b[0m\u001b[1;33m.\u001b[0m\u001b[0mnsmallest\u001b[0m\u001b[1;33m(\u001b[0m\u001b[1;36m2\u001b[0m\u001b[1;33m)\u001b[0m\u001b[1;33m.\u001b[0m\u001b[0mkeys\u001b[0m\u001b[1;33m(\u001b[0m\u001b[1;33m)\u001b[0m\u001b[1;33m)\u001b[0m          \u001b[1;31m# noses near top of screen\u001b[0m\u001b[1;33m\u001b[0m\u001b[1;33m\u001b[0m\u001b[0m\n",
      "\u001b[1;31mAttributeError\u001b[0m: 'numpy.ndarray' object has no attribute 'nose_tip_x'"
     ]
    }
   ],
   "source": [
    "## MARK WEIRD IMAGE SET GOES HERE\n",
    "\n",
    "interesting_cases = []\n",
    "\n",
    "# additional interesting cases to explore if time allows:\n",
    "# - multiple faces in one image\n",
    "# - upside down faces\n",
    "# - incomplete faces (not all key points present)\n",
    "# - race/lighting (average shade of pixels in facial region, plot couple darkest/lightest)\n",
    "# - faces halfway offscreen/covered (one eye present, one not)\n",
    "\n",
    "# compile interesting cases\n",
    "interesting_cases.extend(train_labels.nose_tip_x.nsmallest(2).keys())          # noses near left of screen\n",
    "interesting_cases.extend(train_labels.nose_tip_x.nlargest(2).keys())           # noses near right of screen\n",
    "interesting_cases.extend(train_labels.nose_tip_y.nsmallest(2).keys())          # noses near top of screen\n",
    "interesting_cases.extend((train_labels.right_eye_center_x -\n",
    "                          train_labels.left_eye_center_x).nsmallest(2).keys()) # small faces\n",
    "interesting_cases.extend((train_labels.right_eye_center_x -\n",
    "                          train_labels.left_eye_center_x).nlargest(2).keys())  # wide faces\n",
    "\n",
    "print(interesting_cases)"
   ]
  },
  {
   "cell_type": "markdown",
   "metadata": {},
   "source": [
    "## Features "
   ]
  },
  {
   "cell_type": "markdown",
   "metadata": {},
   "source": [
    "### Engineering: Mirror images"
   ]
  },
  {
   "cell_type": "markdown",
   "metadata": {},
   "source": [
    "Need the column headers for the labels as an input so this needs to be included in the data load. This takes the data in shape (X, 96, 96, 1) and the labels as (X, 30) numpy arrays."
   ]
  },
  {
   "cell_type": "code",
   "execution_count": 22,
   "metadata": {
    "ExecuteTime": {
     "end_time": "2018-11-27T14:16:48.507948Z",
     "start_time": "2018-11-27T14:16:48.496301Z"
    }
   },
   "outputs": [],
   "source": [
    "def flip_data(data, labels, features):\n",
    "    '''This function flips the images and labels to their new columns\n",
    "    Input data is numpy array of shape (X, 96, 96, 1)\n",
    "    Input labels is numpy array of shape (X, 30)\n",
    "    features is a list of column header strings\n",
    "    '''\n",
    "    \n",
    "    # flip the images\n",
    "    data_flipped = data[:, :, ::-1, :]\n",
    "    \n",
    "    # flip the labels\n",
    "    labels_flipped = np.zeros(labels.shape)\n",
    "    for idx in range(len(labels)):\n",
    "        for i,s1 in enumerate(features):\n",
    "            parts = s1.partition('_')\n",
    "            if parts[0] == 'left' or parts[0] == 'right':\n",
    "                coord = parts[-1]\n",
    "            elif parts[0] == 'mouth':\n",
    "                parts = s1.split('_', maxsplit=2)\n",
    "                if 'corner' in parts[-1]:\n",
    "                    coord = parts[-1]        \n",
    "                elif 'x' in parts[-1]:\n",
    "                    labels_flipped[idx,i] = labels[idx,i] * -1\n",
    "                else:\n",
    "                    labels_flipped[idx,i] = labels[idx,i]\n",
    "            else:\n",
    "                if 'x' in parts[-1]:\n",
    "                    labels_flipped[idx,i] = labels[idx,i] * -1\n",
    "                else:\n",
    "                    labels_flipped[idx,i] = labels[idx,i]\n",
    "            for j in range(i+1,len(features)-1):\n",
    "                s2 = features[j]\n",
    "                if coord in s2:\n",
    "                    if 'x' in coord:\n",
    "                        labels_flipped[idx,i] = labels[idx,j] * -1\n",
    "                        labels_flipped[idx,j] = labels[idx,i] * -1\n",
    "                    else:\n",
    "                        labels_flipped[idx,i] = labels[idx,j]\n",
    "                        labels_flipped[idx,j] = labels[idx,i]\n",
    "                \n",
    "    return data_flipped, labels_flipped"
   ]
  },
  {
   "cell_type": "code",
   "execution_count": 23,
   "metadata": {},
   "outputs": [
    {
     "ename": "TypeError",
     "evalue": "only size-1 arrays can be converted to Python scalars",
     "output_type": "error",
     "traceback": [
      "\u001b[1;31m---------------------------------------------------------------------------\u001b[0m",
      "\u001b[1;31mTypeError\u001b[0m                                 Traceback (most recent call last)",
      "\u001b[1;32m<ipython-input-23-8dce280a0666>\u001b[0m in \u001b[0;36m<module>\u001b[1;34m\u001b[0m\n\u001b[0;32m     20\u001b[0m     \u001b[1;32mreturn\u001b[0m \u001b[0mnew_series\u001b[0m\u001b[1;33m\u001b[0m\u001b[1;33m\u001b[0m\u001b[0m\n\u001b[0;32m     21\u001b[0m \u001b[1;33m\u001b[0m\u001b[0m\n\u001b[1;32m---> 22\u001b[1;33m \u001b[0mtrain_data\u001b[0m \u001b[1;33m=\u001b[0m \u001b[0mnormalize_image\u001b[0m\u001b[1;33m(\u001b[0m\u001b[0mtrain_data\u001b[0m\u001b[1;33m)\u001b[0m\u001b[1;33m\u001b[0m\u001b[1;33m\u001b[0m\u001b[0m\n\u001b[0m\u001b[0;32m     23\u001b[0m \u001b[0mtest_data\u001b[0m \u001b[1;33m=\u001b[0m \u001b[0mnormalize_image\u001b[0m\u001b[1;33m(\u001b[0m\u001b[0mtest_data\u001b[0m\u001b[1;33m)\u001b[0m\u001b[1;33m\u001b[0m\u001b[1;33m\u001b[0m\u001b[0m\n",
      "\u001b[1;32m<ipython-input-23-8dce280a0666>\u001b[0m in \u001b[0;36mnormalize_image\u001b[1;34m(data)\u001b[0m\n\u001b[0;32m     11\u001b[0m \u001b[1;33m\u001b[0m\u001b[0m\n\u001b[0;32m     12\u001b[0m         \u001b[1;32mfor\u001b[0m \u001b[0mpixel\u001b[0m \u001b[1;32min\u001b[0m \u001b[0mimage\u001b[0m\u001b[1;33m:\u001b[0m\u001b[1;33m\u001b[0m\u001b[1;33m\u001b[0m\u001b[0m\n\u001b[1;32m---> 13\u001b[1;33m             \u001b[0mnew_pixel\u001b[0m \u001b[1;33m=\u001b[0m \u001b[0mint\u001b[0m\u001b[1;33m(\u001b[0m\u001b[1;33m(\u001b[0m\u001b[0mpixel\u001b[0m\u001b[1;33m-\u001b[0m\u001b[0mold_min\u001b[0m\u001b[1;33m)\u001b[0m\u001b[1;33m*\u001b[0m\u001b[1;33m(\u001b[0m\u001b[1;33m(\u001b[0m\u001b[0mnew_max\u001b[0m\u001b[1;33m-\u001b[0m\u001b[0mnew_min\u001b[0m\u001b[1;33m)\u001b[0m\u001b[1;33m/\u001b[0m\u001b[1;33m(\u001b[0m\u001b[0mold_max\u001b[0m\u001b[1;33m-\u001b[0m\u001b[0mold_min\u001b[0m\u001b[1;33m)\u001b[0m\u001b[1;33m)\u001b[0m\u001b[1;33m+\u001b[0m \u001b[0mnew_min\u001b[0m\u001b[1;33m)\u001b[0m\u001b[1;33m\u001b[0m\u001b[1;33m\u001b[0m\u001b[0m\n\u001b[0m\u001b[0;32m     14\u001b[0m             \u001b[0mnew_image\u001b[0m\u001b[1;33m.\u001b[0m\u001b[0mappend\u001b[0m\u001b[1;33m(\u001b[0m\u001b[0mnew_pixel\u001b[0m\u001b[1;33m)\u001b[0m\u001b[1;33m\u001b[0m\u001b[1;33m\u001b[0m\u001b[0m\n\u001b[0;32m     15\u001b[0m \u001b[1;33m\u001b[0m\u001b[0m\n",
      "\u001b[1;31mTypeError\u001b[0m: only size-1 arrays can be converted to Python scalars"
     ]
    }
   ],
   "source": [
    "# From here: https://en.wikipedia.org/wiki/Normalization_(image_processing)\n",
    "def normalize_image(data):\n",
    "      \n",
    "    new_dataset = []\n",
    "    \n",
    "    for image in data:\n",
    "        old_min, old_max = np.amin(image), np.amax(image)        \n",
    "        new_min, new_max = 0, 255\n",
    "\n",
    "        new_image = []\n",
    "        \n",
    "        for pixel in image:\n",
    "            new_pixel = int((pixel-old_min)*((new_max-new_min)/(old_max-old_min))+ new_min)\n",
    "            new_image.append(new_pixel)\n",
    "        \n",
    "        new_dataset.append(new_image)\n",
    "        \n",
    "    new_series = pd.Series(data=new_dataset, index=data.index)\n",
    "    \n",
    "    return new_series\n",
    "\n",
    "train_data = normalize_image(train_data)\n",
    "test_data = normalize_image(test_data)"
   ]
  },
  {
   "cell_type": "code",
   "execution_count": 24,
   "metadata": {},
   "outputs": [
    {
     "ename": "NameError",
     "evalue": "name 'seq' is not defined",
     "output_type": "error",
     "traceback": [
      "\u001b[1;31m---------------------------------------------------------------------------\u001b[0m",
      "\u001b[1;31mNameError\u001b[0m                                 Traceback (most recent call last)",
      "\u001b[1;32m<ipython-input-24-98e838c799e7>\u001b[0m in \u001b[0;36m<module>\u001b[1;34m\u001b[0m\n\u001b[0;32m     41\u001b[0m ])\n\u001b[0;32m     42\u001b[0m \u001b[1;33m\u001b[0m\u001b[0m\n\u001b[1;32m---> 43\u001b[1;33m \u001b[0mcrop_data\u001b[0m\u001b[1;33m,\u001b[0m \u001b[0mcrop_labels\u001b[0m \u001b[1;33m=\u001b[0m \u001b[0maugment_images\u001b[0m\u001b[1;33m(\u001b[0m\u001b[0mtrain_data\u001b[0m\u001b[1;33m,\u001b[0m \u001b[0mtrain_labels\u001b[0m\u001b[1;33m,\u001b[0m \u001b[0maug\u001b[0m\u001b[1;33m)\u001b[0m\u001b[1;33m\u001b[0m\u001b[1;33m\u001b[0m\u001b[0m\n\u001b[0m",
      "\u001b[1;32m<ipython-input-24-98e838c799e7>\u001b[0m in \u001b[0;36maugment_images\u001b[1;34m(data, labels, aug)\u001b[0m\n\u001b[0;32m      6\u001b[0m     \u001b[1;32mfor\u001b[0m \u001b[0mimage\u001b[0m\u001b[1;33m,\u001b[0m \u001b[0mfeatures\u001b[0m \u001b[1;32min\u001b[0m \u001b[0mzip\u001b[0m\u001b[1;33m(\u001b[0m\u001b[0mdata\u001b[0m\u001b[1;33m,\u001b[0m \u001b[0mlabels\u001b[0m\u001b[1;33m)\u001b[0m\u001b[1;33m:\u001b[0m\u001b[1;33m\u001b[0m\u001b[1;33m\u001b[0m\u001b[0m\n\u001b[0;32m      7\u001b[0m \u001b[1;33m\u001b[0m\u001b[0m\n\u001b[1;32m----> 8\u001b[1;33m         \u001b[0mseq_det\u001b[0m \u001b[1;33m=\u001b[0m \u001b[0mseq\u001b[0m\u001b[1;33m.\u001b[0m\u001b[0mto_deterministic\u001b[0m\u001b[1;33m(\u001b[0m\u001b[1;33m)\u001b[0m\u001b[1;33m\u001b[0m\u001b[1;33m\u001b[0m\u001b[0m\n\u001b[0m\u001b[0;32m      9\u001b[0m         \u001b[0mimage\u001b[0m \u001b[1;33m=\u001b[0m \u001b[0mnp\u001b[0m\u001b[1;33m.\u001b[0m\u001b[0mexpand_dims\u001b[0m\u001b[1;33m(\u001b[0m\u001b[0mimage\u001b[0m\u001b[1;33m,\u001b[0m \u001b[0maxis\u001b[0m\u001b[1;33m=\u001b[0m\u001b[1;36m0\u001b[0m\u001b[1;33m)\u001b[0m\u001b[1;33m\u001b[0m\u001b[1;33m\u001b[0m\u001b[0m\n\u001b[0;32m     10\u001b[0m         \u001b[0mimages_aug\u001b[0m \u001b[1;33m=\u001b[0m \u001b[0mnp\u001b[0m\u001b[1;33m.\u001b[0m\u001b[0msqueeze\u001b[0m\u001b[1;33m(\u001b[0m\u001b[0mseq_det\u001b[0m\u001b[1;33m.\u001b[0m\u001b[0maugment_images\u001b[0m\u001b[1;33m(\u001b[0m\u001b[0mimage\u001b[0m\u001b[1;33m)\u001b[0m\u001b[1;33m)\u001b[0m\u001b[1;33m\u001b[0m\u001b[1;33m\u001b[0m\u001b[0m\n",
      "\u001b[1;31mNameError\u001b[0m: name 'seq' is not defined"
     ]
    }
   ],
   "source": [
    "def augment_images(data, labels, aug):\n",
    "    \n",
    "    aug_data = []\n",
    "    aug_labels =[]\n",
    "    \n",
    "    for image, features in zip(data, labels):\n",
    "        \n",
    "        seq_det = seq.to_deterministic()\n",
    "        image = np.expand_dims(image, axis=0)\n",
    "        images_aug = np.squeeze(seq_det.augment_images(image))\n",
    "        \n",
    "        aug_data.append(images_aug)\n",
    "\n",
    "        keypoints_on_images = []\n",
    "        keypoints = []\n",
    "        \n",
    "        for c in range(0, features.shape[0], 2):\n",
    "            x = features[c]* 48 + 48\n",
    "            y = features[c+1]* 48 + 48\n",
    "\n",
    "            keypoints.append(ia.Keypoint(x=x, y=y))\n",
    "\n",
    "        keypoints_on_images.append(ia.KeypointsOnImage(keypoints, shape=(96,96)))\n",
    "        keypoints_aug = seq_det.augment_keypoints(keypoints_on_images)\n",
    "        \n",
    "        aug_labels_set = []\n",
    "        \n",
    "        for keypoints_after in keypoints_aug:\n",
    "            for i, keypoint in enumerate(keypoints_after.keypoints):\n",
    "                aug_labels_set.append((keypoint.x - 48) / 48)\n",
    "                aug_labels_set.append((keypoint.y - 48) / 48)\n",
    "                \n",
    "        aug_labels.append(aug_labels_set)\n",
    "        \n",
    "    return aug_data, np.array(aug_labels)\n",
    "\n",
    "aug = iaa.Sequential([\n",
    "    \n",
    "    iaa.Crop(px=(0, 16))\n",
    "                     \n",
    "])\n",
    "\n",
    "crop_data, crop_labels = augment_images(train_data, train_labels, aug)"
   ]
  },
  {
   "cell_type": "code",
   "execution_count": 25,
   "metadata": {},
   "outputs": [
    {
     "ename": "NameError",
     "evalue": "name 'crop_data' is not defined",
     "output_type": "error",
     "traceback": [
      "\u001b[1;31m---------------------------------------------------------------------------\u001b[0m",
      "\u001b[1;31mNameError\u001b[0m                                 Traceback (most recent call last)",
      "\u001b[1;32m<ipython-input-25-f70294b914f2>\u001b[0m in \u001b[0;36m<module>\u001b[1;34m\u001b[0m\n\u001b[0;32m      1\u001b[0m \u001b[1;31m# Test for augmentation\u001b[0m\u001b[1;33m\u001b[0m\u001b[1;33m\u001b[0m\u001b[1;33m\u001b[0m\u001b[0m\n\u001b[0;32m      2\u001b[0m \u001b[0mplt\u001b[0m\u001b[1;33m.\u001b[0m\u001b[0mfigure\u001b[0m\u001b[1;33m(\u001b[0m\u001b[1;33m)\u001b[0m\u001b[1;33m\u001b[0m\u001b[1;33m\u001b[0m\u001b[0m\n\u001b[1;32m----> 3\u001b[1;33m \u001b[0mplt\u001b[0m\u001b[1;33m.\u001b[0m\u001b[0mimshow\u001b[0m\u001b[1;33m(\u001b[0m\u001b[0mcrop_data\u001b[0m\u001b[1;33m[\u001b[0m\u001b[1;36m111\u001b[0m\u001b[1;33m]\u001b[0m\u001b[1;33m,\u001b[0m \u001b[0mcmap\u001b[0m\u001b[1;33m=\u001b[0m\u001b[1;34m'gray'\u001b[0m\u001b[1;33m)\u001b[0m\u001b[1;33m\u001b[0m\u001b[1;33m\u001b[0m\u001b[0m\n\u001b[0m\u001b[0;32m      4\u001b[0m \u001b[1;33m\u001b[0m\u001b[0m\n\u001b[0;32m      5\u001b[0m \u001b[1;32mfor\u001b[0m \u001b[0mc\u001b[0m \u001b[1;32min\u001b[0m \u001b[0mrange\u001b[0m\u001b[1;33m(\u001b[0m\u001b[1;36m0\u001b[0m\u001b[1;33m,\u001b[0m \u001b[0mcrop_labels\u001b[0m\u001b[1;33m.\u001b[0m\u001b[0mshape\u001b[0m\u001b[1;33m[\u001b[0m\u001b[1;36m1\u001b[0m\u001b[1;33m]\u001b[0m\u001b[1;33m,\u001b[0m \u001b[1;36m2\u001b[0m\u001b[1;33m)\u001b[0m\u001b[1;33m:\u001b[0m\u001b[1;33m\u001b[0m\u001b[1;33m\u001b[0m\u001b[0m\n",
      "\u001b[1;31mNameError\u001b[0m: name 'crop_data' is not defined"
     ]
    },
    {
     "data": {
      "text/plain": [
       "<Figure size 432x288 with 0 Axes>"
      ]
     },
     "metadata": {},
     "output_type": "display_data"
    }
   ],
   "source": [
    "# Test for augmentation\n",
    "plt.figure()\n",
    "plt.imshow(crop_data[111], cmap='gray')\n",
    "\n",
    "for c in range(0, crop_labels.shape[1], 2):\n",
    "    x = crop_labels[111][c]* 48 + 48\n",
    "    y = crop_labels[111][c+1]* 48 + 48\n",
    "        \n",
    "    plt.scatter(x,y,cmap='pastel1')"
   ]
  },
  {
   "cell_type": "markdown",
   "metadata": {},
   "source": [
    "### Inserting new data into existing"
   ]
  },
  {
   "cell_type": "code",
   "execution_count": 26,
   "metadata": {
    "ExecuteTime": {
     "end_time": "2018-11-27T14:46:04.626684Z",
     "start_time": "2018-11-27T14:46:04.369321Z"
    }
   },
   "outputs": [],
   "source": [
    "train_data_flipped, train_labels_flipped = flip_data(\n",
    "    train_data, train_labels, list(features)\n",
    ")"
   ]
  },
  {
   "cell_type": "code",
   "execution_count": 27,
   "metadata": {
    "ExecuteTime": {
     "end_time": "2018-11-27T14:46:04.927815Z",
     "start_time": "2018-11-27T14:46:04.680476Z"
    }
   },
   "outputs": [
    {
     "data": {
      "text/plain": [
       "((11278, 96, 96, 1), (11278, 30))"
      ]
     },
     "execution_count": 27,
     "metadata": {},
     "output_type": "execute_result"
    }
   ],
   "source": [
    "train_data_set = np.concatenate((train_data, train_data_flipped), axis=0)\n",
    "train_labels_set = np.concatenate((train_labels, train_labels_flipped), axis=0)\n",
    "train_data_set.shape, train_labels_set.shape"
   ]
  },
  {
   "cell_type": "markdown",
   "metadata": {},
   "source": [
    "## Modeling"
   ]
  },
  {
   "cell_type": "markdown",
   "metadata": {},
   "source": [
    "### Simple Models"
   ]
  },
  {
   "cell_type": "code",
   "execution_count": null,
   "metadata": {},
   "outputs": [],
   "source": [
    "# Naive baseline - calculate the average (X, Y) of all the labels and guess that every time\n",
    "n_rows = train_data.shape[0]\n",
    "n_cols = train_data.iloc[0].shape[0]\n",
    "\n",
    "for col in [1]: #range(n_cols):\n",
    "    sum = 0\n",
    "    for row in range(n_rows):\n",
    "        sum += train_labels.iloc[row][col]\n",
    "    avg = sum / n_rows\n",
    "    predictions = np.ones(dev_data.shape[0]) * avg\n",
    "\n",
    "    mse = mean_squared_error(dev_labels['left_eye_center_x'], predictions)\n",
    "    print(mse)"
   ]
  },
  {
   "cell_type": "code",
   "execution_count": null,
   "metadata": {},
   "outputs": [],
   "source": [
    "# More simple baselines\n",
    "regressors = {\n",
    "    'LinearRegression': LinearRegression(),\n",
    "    'DecisionTree': DecisionTreeRegressor(),\n",
    "    'NearestNeighbors': KNeighborsRegressor()\n",
    "} \n",
    "\n",
    "def model_training(model):\n",
    "    \n",
    "    # Convert arrays of arrays to a numpy matrix or sklearn .fit doesn't like them.\n",
    "    X = np.empty((train_data.shape[0], train_data.iloc[0].shape[0]))\n",
    "    for row in range(train_data.shape[0]):\n",
    "        X[row,:] = train_data.iloc[row]\n",
    "    Z = np.empty((dev_data.shape[0], dev_data.iloc[0].shape[0]))\n",
    "    for row in range(dev_data.shape[0]):\n",
    "        Z[row,:] = dev_data.iloc[row]\n",
    "        \n",
    "    Y = train_labels['left_eye_center_x']\n",
    "        \n",
    "    model.fit(X,Y)\n",
    "    predictions = model.predict(Z)\n",
    "    \n",
    "    mse = mean_squared_error(dev_labels['left_eye_center_x'], predictions)\n",
    "    \n",
    "    return mse\n",
    "\n",
    "for k,v in regressors.items():\n",
    "    print(k,':',model_training(v))"
   ]
  },
  {
   "cell_type": "code",
   "execution_count": null,
   "metadata": {},
   "outputs": [],
   "source": [
    "# Try Simple Single Hidden Layer (800 node) Neural Net Model (Madeline, Alex):\n",
    "\n",
    "\"\"\"\n",
    "\"\"\""
   ]
  },
  {
   "cell_type": "markdown",
   "metadata": {},
   "source": [
    "### Building the Neural Network\n",
    "The default values I have defined do not need to stay here they can be whatever and will probably change once we run a proper grid search"
   ]
  },
  {
   "cell_type": "code",
   "execution_count": 9,
   "metadata": {},
   "outputs": [],
   "source": [
    "def mean_squared_error_with_missing(y_true, y_pred):\n",
    "    \n",
    "    # figure out which labels are present\n",
    "    present = tf.logical_not(tf.is_nan(y_true))\n",
    "    \n",
    "    # select only those labels\n",
    "    present_labels_true = tf.boolean_mask(y_true, present)\n",
    "    present_labels_pred = tf.boolean_mask(y_pred, present)\n",
    "    \n",
    "    \n",
    "    # compute mean squared error\n",
    "    loss = tf.math.reduce_mean(tf.math.squared_difference(present_labels_true,present_labels_pred))\n",
    "    \n",
    "    return loss"
   ]
  },
  {
   "cell_type": "code",
   "execution_count": 10,
   "metadata": {
    "ExecuteTime": {
     "end_time": "2018-11-27T14:17:14.639166Z",
     "start_time": "2018-11-27T14:17:14.491561Z"
    }
   },
   "outputs": [],
   "source": [
    "def build_CNN(\n",
    "    num_ConvLayers=3, \n",
    "    num_DenseLayers=2,\n",
    "    filters=[32,64,128],\n",
    "    kernels=[(3,3), (3,3), (3,3)], \n",
    "    pools=[(2,2),(2,2),(2,2)], \n",
    "    dense_nodes=[1000,1000], \n",
    "    optimizer=keras.optimizers.Adam(), \n",
    "    dropout=None,\n",
    "    input_shape=(96,96,1)\n",
    "):\n",
    "    '''This function builds a CNN model\n",
    "    num_ConvLayers --> is the number of convolutional layer groups where \n",
    "    each group contains a convolutional layer, a pooling layer, and an\n",
    "    optional dropout layer\n",
    "    \n",
    "    num_DenseLayers --> is the number of dense layers after flattening\n",
    "    the convolutional output\n",
    "    \n",
    "    filters --> a list of the number of filters used in each\n",
    "    convolutional layer specified in num_ConvLayers\n",
    "    \n",
    "    kernels --> a list of the kernel size to use in each convolutional\n",
    "    layer specified in num_ConvLayers\n",
    "    \n",
    "    pools --> a list of the kernel size to use in each pooling layer\n",
    "    specified in num_ConvLayers\n",
    "    \n",
    "    dense_nodes --> a list of the number of units in each dense layer\n",
    "    specified in num_DenseLayers\n",
    "    \n",
    "    dropout --> optional, a list of the dropout rates at each \n",
    "    convolutional layer\n",
    "    \n",
    "    input_shape --> the shape of the input data\n",
    "    '''\n",
    "    # define a Sequential model\n",
    "    model = Sequential()\n",
    "    \n",
    "    # add convolutional layer groups\n",
    "    for i in range(num_ConvLayers):\n",
    "        model.add(Conv2D(\n",
    "            filters=filters[i],\n",
    "            kernel_size=kernels[i],\n",
    "            strides=(1,1),\n",
    "            padding='same',\n",
    "            activation='relu',\n",
    "            input_shape=input_shape\n",
    "        ))\n",
    "        model.add(MaxPooling2D(\n",
    "            pool_size=pools[i],\n",
    "            strides=None\n",
    "        ))\n",
    "        \n",
    "        # add dropout layers if specified\n",
    "        if dropout:\n",
    "            model.add(Dropout(rate=dropout[i]))\n",
    "    \n",
    "    # flatten the convolutional layers\n",
    "    model.add(Flatten())\n",
    "    \n",
    "    # add the dense layers\n",
    "    for j in range(num_DenseLayers):\n",
    "        model.add(Dense(\n",
    "            units=dense_nodes[j],\n",
    "            activation='relu'\n",
    "        ))\n",
    "        \n",
    "    # create the output layer\n",
    "    model.add(Dense(units=30))\n",
    "    \n",
    "    # compile the model\n",
    "    #model.compile(loss='mean_squared_error', optimizer=optimizer)\n",
    "    model.compile(loss=mean_squared_error_with_missing, optimizer=optimizer)\n",
    "    \n",
    "    return model"
   ]
  },
  {
   "cell_type": "markdown",
   "metadata": {},
   "source": [
    "#### Time callback so we can easily see total train time of each iteration of model"
   ]
  },
  {
   "cell_type": "code",
   "execution_count": 11,
   "metadata": {
    "ExecuteTime": {
     "end_time": "2018-11-27T14:29:38.650007Z",
     "start_time": "2018-11-27T14:29:38.644018Z"
    }
   },
   "outputs": [],
   "source": [
    "class TimeHistory(keras.callbacks.Callback):\n",
    "    def on_train_begin(self, logs={}):\n",
    "        self.times = []\n",
    "\n",
    "    def on_epoch_begin(self, batch, logs={}):\n",
    "        self.epoch_time_start = time.time()\n",
    "\n",
    "    def on_epoch_end(self, batch, logs={}):\n",
    "        self.times.append(time.time() - self.epoch_time_start)"
   ]
  },
  {
   "cell_type": "markdown",
   "metadata": {},
   "source": [
    "#### Function to Plot the neural net flow"
   ]
  },
  {
   "cell_type": "code",
   "execution_count": 12,
   "metadata": {},
   "outputs": [],
   "source": [
    "def plot_NN(model):\n",
    "    plot_model(model, to_file='model.png', show_shapes=True)\n",
    "    mod = plt.imread('model.png')\n",
    "    fig = plt.figure(figsize=(10,20), frameon=False)\n",
    "    plt.imshow(mod)\n",
    "    plt.axis('off')"
   ]
  },
  {
   "cell_type": "markdown",
   "metadata": {},
   "source": [
    "## Grid Search"
   ]
  },
  {
   "cell_type": "code",
   "execution_count": null,
   "metadata": {
    "ExecuteTime": {
     "end_time": "2018-11-27T14:18:09.051118Z",
     "start_time": "2018-11-27T14:18:09.047122Z"
    }
   },
   "outputs": [],
   "source": [
    "# Define the model as a KerasRegressor class\n",
    "\n",
    "model = KerasRegressor(build_fn=build_CNN, epochs=10)\n",
    "\n",
    "# Define parameter ranges over which to search\n",
    "\n",
    "f = list(range(8,72,8))\n",
    "filts = [[i, i*2, i*4] for i in f]\n",
    "filts, len(filts)\n",
    "\n",
    "optimizer = ['SGD', 'RMSprop', 'Adagrad', 'Adadelta', 'Adam', 'Adamax', 'Nadam']\n",
    "\n",
    "k1 = [[(i,i)]*3 for i in range(2,5)]\n",
    "k2 = [\n",
    "    [(4,4), (3,3), (2,2)], \n",
    "    [(3,3), (2,2), (2,2)], \n",
    "    [(2,2), (3,3), (4,4)],\n",
    "    [(2,2), (2,2), (3,3)],\n",
    "    [(3,3), (3,3), (2,2)],\n",
    "    [(2,2), (3,3), (3,3)],\n",
    "]\n",
    "k = k1 + k2\n",
    "k, len(k)\n",
    "\n",
    "# param_grid = dict(optimizer=optimizer, filters=filts, kernels=k)\n",
    "# param_grid = dict(optimizer=optimizer, kernels=k)\n",
    "param_grid = dict(kernels=k)\n",
    "param_grid\n",
    "\n",
    "# Run the grid search\n",
    "\n",
    "grid = GridSearchCV(\n",
    "    estimator=model, \n",
    "    param_grid=param_grid, \n",
    "#     n_jobs=-1,\n",
    "    scoring='neg_mean_squared_error',\n",
    ")\n",
    "\n",
    "grid_data, grid_labels = shuffle(train_data_set, train_labels_set, random_state=666)\n",
    "grid_data, grid_labels = grid_data[:100], grid_labels[:100]\n",
    "grid_data.shape, grid_labels.shape\n",
    "\n",
    "grid_result = grid.fit(grid_data, grid_labels, verbose=1)\n",
    "\n",
    "# Get the results and store to csv\n",
    "\n",
    "cv_results = pd.DataFrame(grid_result.cv_results_)\n",
    "cv_results.head()\n",
    "cv_results.to_csv('grid_search_results2.csv')\n",
    "grid_result.best_params_"
   ]
  },
  {
   "cell_type": "markdown",
   "metadata": {},
   "source": [
    "###  Running CNN\n",
    "I think we discussed building a CNN with a set of default parameters, train it on the original data set, then augment the data and train it again, then change some parameters in the model and train it again, etc"
   ]
  },
  {
   "cell_type": "markdown",
   "metadata": {},
   "source": [
    "<table> \n",
    "<tr>\n",
    "<th> Model Name </th> <th> Model Parameters </th> <th> Training Criteria </th>\n",
    "</tr>\n",
    "<tr>\n",
    "<td> Model 1a </td> <td> Default </td> <td> 10 epochs, 100 data points </td>\n",
    "</tr>\n",
    "    <tr>\n",
    "<td> Model 1b </td> <td> Default </td> <td> 10 epochs, Original data </td>\n",
    "</tr>\n",
    "    <tr>\n",
    "<td> Model 1c </td> <td> Default </td> <td> 10 epochs, Augmented data </td>\n",
    "</tr>\n",
    "    <tr>\n",
    "<td> Model 2a </td> <td> ... </td> <td> ... </td>\n",
    "</tr>\n",
    "</table>"
   ]
  },
  {
   "cell_type": "markdown",
   "metadata": {},
   "source": [
    "#### Model 1a"
   ]
  },
  {
   "cell_type": "code",
   "execution_count": 30,
   "metadata": {
    "ExecuteTime": {
     "end_time": "2018-11-27T14:37:30.930151Z",
     "start_time": "2018-11-27T14:37:30.764396Z"
    }
   },
   "outputs": [],
   "source": [
    "model1a = build_CNN()"
   ]
  },
  {
   "cell_type": "code",
   "execution_count": null,
   "metadata": {},
   "outputs": [],
   "source": [
    "plot_NN(model1a)"
   ]
  },
  {
   "cell_type": "code",
   "execution_count": 35,
   "metadata": {
    "ExecuteTime": {
     "end_time": "2018-11-27T14:42:52.184997Z",
     "start_time": "2018-11-27T14:42:17.244425Z"
    }
   },
   "outputs": [
    {
     "name": "stdout",
     "output_type": "stream",
     "text": [
      "Train on 80 samples, validate on 20 samples\n",
      "Epoch 1/10\n",
      "80/80 [==============================] - 3s 33ms/step - loss: 0.0101 - val_loss: 0.0087\n",
      "Epoch 2/10\n",
      "80/80 [==============================] - 3s 33ms/step - loss: 0.0083 - val_loss: 0.0106\n",
      "Epoch 3/10\n",
      "80/80 [==============================] - 3s 32ms/step - loss: 0.0083 - val_loss: 0.0071\n",
      "Epoch 4/10\n",
      "80/80 [==============================] - 3s 33ms/step - loss: 0.0078 - val_loss: 0.0089\n",
      "Epoch 5/10\n",
      "80/80 [==============================] - 3s 32ms/step - loss: 0.0081 - val_loss: 0.0083\n",
      "Epoch 6/10\n",
      "80/80 [==============================] - 3s 37ms/step - loss: 0.0076 - val_loss: 0.0071\n",
      "Epoch 7/10\n",
      "80/80 [==============================] - 3s 33ms/step - loss: 0.0075 - val_loss: 0.0088\n",
      "Epoch 8/10\n",
      "80/80 [==============================] - 3s 33ms/step - loss: 0.0070 - val_loss: 0.0073\n",
      "Epoch 9/10\n",
      "80/80 [==============================] - 3s 33ms/step - loss: 0.0067 - val_loss: 0.0073\n",
      "Epoch 10/10\n",
      "80/80 [==============================] - 3s 32ms/step - loss: 0.0067 - val_loss: 0.0081\n",
      "\n",
      "RMS error on validation set: 4.322526802346139\n",
      "Total runtime (minutes): 0.44\n"
     ]
    }
   ],
   "source": [
    "# just using the first 100 points to run it quick and show the visualization\n",
    "time_callback = TimeHistory()\n",
    "hist1a = model1a.fit(\n",
    "    train_data[:100], train_labels[:100], \n",
    "    batch_size=32,\n",
    "    epochs=10, \n",
    "    validation_split=0.2, \n",
    "#     validation_data = dev_data\n",
    "    verbose=1,\n",
    "    callbacks=[keras.callbacks.History(), time_callback]\n",
    ")\n",
    "print('\\nRMS error on validation set:', np.sqrt(hist1a.history['val_loss'][-1]) * 48)\n",
    "print('Total runtime (minutes):', round(np.sum(time_callback.times) / 60, 2))"
   ]
  },
  {
   "cell_type": "markdown",
   "metadata": {},
   "source": [
    "We could try running this for longer, but the way the validation loss levels off even as the training loss continues to shrink shows that the model is overfitting. This is unsurprising given the small size of our data set, and the large number of parameters. For better results, we should next try the full (unaugmented) data set and see how it fares."
   ]
  },
  {
   "cell_type": "markdown",
   "metadata": {},
   "source": [
    "#### Model 1b"
   ]
  },
  {
   "cell_type": "code",
   "execution_count": 36,
   "metadata": {},
   "outputs": [],
   "source": [
    "model1b = build_CNN()"
   ]
  },
  {
   "cell_type": "code",
   "execution_count": 38,
   "metadata": {},
   "outputs": [
    {
     "name": "stdout",
     "output_type": "stream",
     "text": [
      "Train on 4511 samples, validate on 1128 samples\n",
      "Epoch 1/10\n",
      "4511/4511 [==============================] - 134s 30ms/step - loss: 0.0073 - val_loss: 0.0065\n",
      "Epoch 2/10\n",
      "4511/4511 [==============================] - 137s 30ms/step - loss: 0.0068 - val_loss: 0.0065\n",
      "Epoch 3/10\n",
      "4511/4511 [==============================] - 138s 30ms/step - loss: 0.0067 - val_loss: 0.0063\n",
      "Epoch 4/10\n",
      "4511/4511 [==============================] - 139s 31ms/step - loss: 0.0064 - val_loss: 0.0058\n",
      "Epoch 5/10\n",
      "4511/4511 [==============================] - 140s 31ms/step - loss: 0.0055 - val_loss: 0.0047\n",
      "Epoch 6/10\n",
      "4511/4511 [==============================] - 140s 31ms/step - loss: 0.0046 - val_loss: 0.0041\n",
      "Epoch 7/10\n",
      "4511/4511 [==============================] - 140s 31ms/step - loss: 0.0042 - val_loss: 0.0038\n",
      "Epoch 8/10\n",
      "4511/4511 [==============================] - 139s 31ms/step - loss: 0.0039 - val_loss: 0.0037\n",
      "Epoch 9/10\n",
      "4511/4511 [==============================] - 138s 31ms/step - loss: 0.0036 - val_loss: 0.0035\n",
      "Epoch 10/10\n",
      "4511/4511 [==============================] - 141s 31ms/step - loss: 0.0033 - val_loss: 0.0034\n",
      "\n",
      "RMS error on validation set: 2.797063059658334\n",
      "Total runtime (minutes): 23.1\n"
     ]
    }
   ],
   "source": [
    "time_callback = TimeHistory()\n",
    "hist1b = model1b.fit(\n",
    "    train_data, train_labels, \n",
    "    batch_size=32,\n",
    "    epochs=10, \n",
    "    validation_split=0.2, \n",
    "#     validation_data = dev_data\n",
    "    verbose=1,\n",
    "    callbacks=[keras.callbacks.History(), time_callback]\n",
    ")\n",
    "print('\\nRMS error on validation set:', np.sqrt(hist1b.history['val_loss'][-1]) * 48)\n",
    "print('Total runtime (minutes):', round(np.sum(time_callback.times) / 60, 2))"
   ]
  },
  {
   "cell_type": "markdown",
   "metadata": {},
   "source": [
    "This did significantly better and the validation loss was still improving alongside the training loss at the end of ten epochs. Given this continued improvement, it would be worth running this for longer."
   ]
  },
  {
   "cell_type": "code",
   "execution_count": 49,
   "metadata": {},
   "outputs": [
    {
     "name": "stdout",
     "output_type": "stream",
     "text": [
      "Train on 4511 samples, validate on 1128 samples\n",
      "Epoch 1/10\n",
      "4511/4511 [==============================] - 133s 30ms/step - loss: 0.0023 - val_loss: 0.0030\n",
      "Epoch 2/10\n",
      "4511/4511 [==============================] - 142s 31ms/step - loss: 0.0022 - val_loss: 0.0031\n",
      "Epoch 3/10\n",
      "3104/4511 [===================>..........] - ETA: 43s - loss: 0.0019"
     ]
    },
    {
     "ename": "KeyboardInterrupt",
     "evalue": "",
     "output_type": "error",
     "traceback": [
      "\u001b[1;31m---------------------------------------------------------------------------\u001b[0m",
      "\u001b[1;31mKeyboardInterrupt\u001b[0m                         Traceback (most recent call last)",
      "\u001b[1;32m<ipython-input-49-46c589d9871b>\u001b[0m in \u001b[0;36m<module>\u001b[1;34m\u001b[0m\n\u001b[0;32m      7\u001b[0m \u001b[1;31m#     validation_data = dev_data\u001b[0m\u001b[1;33m\u001b[0m\u001b[1;33m\u001b[0m\u001b[1;33m\u001b[0m\u001b[0m\n\u001b[0;32m      8\u001b[0m     \u001b[0mverbose\u001b[0m\u001b[1;33m=\u001b[0m\u001b[1;36m1\u001b[0m\u001b[1;33m,\u001b[0m\u001b[1;33m\u001b[0m\u001b[1;33m\u001b[0m\u001b[0m\n\u001b[1;32m----> 9\u001b[1;33m     \u001b[0mcallbacks\u001b[0m\u001b[1;33m=\u001b[0m\u001b[1;33m[\u001b[0m\u001b[0mkeras\u001b[0m\u001b[1;33m.\u001b[0m\u001b[0mcallbacks\u001b[0m\u001b[1;33m.\u001b[0m\u001b[0mHistory\u001b[0m\u001b[1;33m(\u001b[0m\u001b[1;33m)\u001b[0m\u001b[1;33m,\u001b[0m \u001b[0mtime_callback\u001b[0m\u001b[1;33m]\u001b[0m\u001b[1;33m\u001b[0m\u001b[1;33m\u001b[0m\u001b[0m\n\u001b[0m\u001b[0;32m     10\u001b[0m )\n\u001b[0;32m     11\u001b[0m \u001b[0mprint\u001b[0m\u001b[1;33m(\u001b[0m\u001b[1;34m'\\nRMS error on validation set:'\u001b[0m\u001b[1;33m,\u001b[0m \u001b[0mnp\u001b[0m\u001b[1;33m.\u001b[0m\u001b[0msqrt\u001b[0m\u001b[1;33m(\u001b[0m\u001b[0mhist1bcont\u001b[0m\u001b[1;33m.\u001b[0m\u001b[0mhistory\u001b[0m\u001b[1;33m[\u001b[0m\u001b[1;34m'val_loss'\u001b[0m\u001b[1;33m]\u001b[0m\u001b[1;33m[\u001b[0m\u001b[1;33m-\u001b[0m\u001b[1;36m1\u001b[0m\u001b[1;33m]\u001b[0m\u001b[1;33m)\u001b[0m \u001b[1;33m*\u001b[0m \u001b[1;36m48\u001b[0m\u001b[1;33m)\u001b[0m\u001b[1;33m\u001b[0m\u001b[1;33m\u001b[0m\u001b[0m\n",
      "\u001b[1;32m~\\Anaconda3\\envs\\tensorflowgpu\\lib\\site-packages\\keras\\engine\\training.py\u001b[0m in \u001b[0;36mfit\u001b[1;34m(self, x, y, batch_size, epochs, verbose, callbacks, validation_split, validation_data, shuffle, class_weight, sample_weight, initial_epoch, steps_per_epoch, validation_steps, **kwargs)\u001b[0m\n\u001b[0;32m   1037\u001b[0m                                         \u001b[0minitial_epoch\u001b[0m\u001b[1;33m=\u001b[0m\u001b[0minitial_epoch\u001b[0m\u001b[1;33m,\u001b[0m\u001b[1;33m\u001b[0m\u001b[1;33m\u001b[0m\u001b[0m\n\u001b[0;32m   1038\u001b[0m                                         \u001b[0msteps_per_epoch\u001b[0m\u001b[1;33m=\u001b[0m\u001b[0msteps_per_epoch\u001b[0m\u001b[1;33m,\u001b[0m\u001b[1;33m\u001b[0m\u001b[1;33m\u001b[0m\u001b[0m\n\u001b[1;32m-> 1039\u001b[1;33m                                         validation_steps=validation_steps)\n\u001b[0m\u001b[0;32m   1040\u001b[0m \u001b[1;33m\u001b[0m\u001b[0m\n\u001b[0;32m   1041\u001b[0m     def evaluate(self, x=None, y=None,\n",
      "\u001b[1;32m~\\Anaconda3\\envs\\tensorflowgpu\\lib\\site-packages\\keras\\engine\\training_arrays.py\u001b[0m in \u001b[0;36mfit_loop\u001b[1;34m(model, f, ins, out_labels, batch_size, epochs, verbose, callbacks, val_f, val_ins, shuffle, callback_metrics, initial_epoch, steps_per_epoch, validation_steps)\u001b[0m\n\u001b[0;32m    197\u001b[0m                     \u001b[0mins_batch\u001b[0m\u001b[1;33m[\u001b[0m\u001b[0mi\u001b[0m\u001b[1;33m]\u001b[0m \u001b[1;33m=\u001b[0m \u001b[0mins_batch\u001b[0m\u001b[1;33m[\u001b[0m\u001b[0mi\u001b[0m\u001b[1;33m]\u001b[0m\u001b[1;33m.\u001b[0m\u001b[0mtoarray\u001b[0m\u001b[1;33m(\u001b[0m\u001b[1;33m)\u001b[0m\u001b[1;33m\u001b[0m\u001b[1;33m\u001b[0m\u001b[0m\n\u001b[0;32m    198\u001b[0m \u001b[1;33m\u001b[0m\u001b[0m\n\u001b[1;32m--> 199\u001b[1;33m                 \u001b[0mouts\u001b[0m \u001b[1;33m=\u001b[0m \u001b[0mf\u001b[0m\u001b[1;33m(\u001b[0m\u001b[0mins_batch\u001b[0m\u001b[1;33m)\u001b[0m\u001b[1;33m\u001b[0m\u001b[1;33m\u001b[0m\u001b[0m\n\u001b[0m\u001b[0;32m    200\u001b[0m                 \u001b[0mouts\u001b[0m \u001b[1;33m=\u001b[0m \u001b[0mto_list\u001b[0m\u001b[1;33m(\u001b[0m\u001b[0mouts\u001b[0m\u001b[1;33m)\u001b[0m\u001b[1;33m\u001b[0m\u001b[1;33m\u001b[0m\u001b[0m\n\u001b[0;32m    201\u001b[0m                 \u001b[1;32mfor\u001b[0m \u001b[0ml\u001b[0m\u001b[1;33m,\u001b[0m \u001b[0mo\u001b[0m \u001b[1;32min\u001b[0m \u001b[0mzip\u001b[0m\u001b[1;33m(\u001b[0m\u001b[0mout_labels\u001b[0m\u001b[1;33m,\u001b[0m \u001b[0mouts\u001b[0m\u001b[1;33m)\u001b[0m\u001b[1;33m:\u001b[0m\u001b[1;33m\u001b[0m\u001b[1;33m\u001b[0m\u001b[0m\n",
      "\u001b[1;32m~\\Anaconda3\\envs\\tensorflowgpu\\lib\\site-packages\\keras\\backend\\tensorflow_backend.py\u001b[0m in \u001b[0;36m__call__\u001b[1;34m(self, inputs)\u001b[0m\n\u001b[0;32m   2713\u001b[0m                 \u001b[1;32mreturn\u001b[0m \u001b[0mself\u001b[0m\u001b[1;33m.\u001b[0m\u001b[0m_legacy_call\u001b[0m\u001b[1;33m(\u001b[0m\u001b[0minputs\u001b[0m\u001b[1;33m)\u001b[0m\u001b[1;33m\u001b[0m\u001b[1;33m\u001b[0m\u001b[0m\n\u001b[0;32m   2714\u001b[0m \u001b[1;33m\u001b[0m\u001b[0m\n\u001b[1;32m-> 2715\u001b[1;33m             \u001b[1;32mreturn\u001b[0m \u001b[0mself\u001b[0m\u001b[1;33m.\u001b[0m\u001b[0m_call\u001b[0m\u001b[1;33m(\u001b[0m\u001b[0minputs\u001b[0m\u001b[1;33m)\u001b[0m\u001b[1;33m\u001b[0m\u001b[1;33m\u001b[0m\u001b[0m\n\u001b[0m\u001b[0;32m   2716\u001b[0m         \u001b[1;32melse\u001b[0m\u001b[1;33m:\u001b[0m\u001b[1;33m\u001b[0m\u001b[1;33m\u001b[0m\u001b[0m\n\u001b[0;32m   2717\u001b[0m             \u001b[1;32mif\u001b[0m \u001b[0mpy_any\u001b[0m\u001b[1;33m(\u001b[0m\u001b[0mis_tensor\u001b[0m\u001b[1;33m(\u001b[0m\u001b[0mx\u001b[0m\u001b[1;33m)\u001b[0m \u001b[1;32mfor\u001b[0m \u001b[0mx\u001b[0m \u001b[1;32min\u001b[0m \u001b[0minputs\u001b[0m\u001b[1;33m)\u001b[0m\u001b[1;33m:\u001b[0m\u001b[1;33m\u001b[0m\u001b[1;33m\u001b[0m\u001b[0m\n",
      "\u001b[1;32m~\\Anaconda3\\envs\\tensorflowgpu\\lib\\site-packages\\keras\\backend\\tensorflow_backend.py\u001b[0m in \u001b[0;36m_call\u001b[1;34m(self, inputs)\u001b[0m\n\u001b[0;32m   2673\u001b[0m             \u001b[0mfetched\u001b[0m \u001b[1;33m=\u001b[0m \u001b[0mself\u001b[0m\u001b[1;33m.\u001b[0m\u001b[0m_callable_fn\u001b[0m\u001b[1;33m(\u001b[0m\u001b[1;33m*\u001b[0m\u001b[0marray_vals\u001b[0m\u001b[1;33m,\u001b[0m \u001b[0mrun_metadata\u001b[0m\u001b[1;33m=\u001b[0m\u001b[0mself\u001b[0m\u001b[1;33m.\u001b[0m\u001b[0mrun_metadata\u001b[0m\u001b[1;33m)\u001b[0m\u001b[1;33m\u001b[0m\u001b[1;33m\u001b[0m\u001b[0m\n\u001b[0;32m   2674\u001b[0m         \u001b[1;32melse\u001b[0m\u001b[1;33m:\u001b[0m\u001b[1;33m\u001b[0m\u001b[1;33m\u001b[0m\u001b[0m\n\u001b[1;32m-> 2675\u001b[1;33m             \u001b[0mfetched\u001b[0m \u001b[1;33m=\u001b[0m \u001b[0mself\u001b[0m\u001b[1;33m.\u001b[0m\u001b[0m_callable_fn\u001b[0m\u001b[1;33m(\u001b[0m\u001b[1;33m*\u001b[0m\u001b[0marray_vals\u001b[0m\u001b[1;33m)\u001b[0m\u001b[1;33m\u001b[0m\u001b[1;33m\u001b[0m\u001b[0m\n\u001b[0m\u001b[0;32m   2676\u001b[0m         \u001b[1;32mreturn\u001b[0m \u001b[0mfetched\u001b[0m\u001b[1;33m[\u001b[0m\u001b[1;33m:\u001b[0m\u001b[0mlen\u001b[0m\u001b[1;33m(\u001b[0m\u001b[0mself\u001b[0m\u001b[1;33m.\u001b[0m\u001b[0moutputs\u001b[0m\u001b[1;33m)\u001b[0m\u001b[1;33m]\u001b[0m\u001b[1;33m\u001b[0m\u001b[1;33m\u001b[0m\u001b[0m\n\u001b[0;32m   2677\u001b[0m \u001b[1;33m\u001b[0m\u001b[0m\n",
      "\u001b[1;32m~\\Anaconda3\\envs\\tensorflowgpu\\lib\\site-packages\\tensorflow\\python\\client\\session.py\u001b[0m in \u001b[0;36m__call__\u001b[1;34m(self, *args, **kwargs)\u001b[0m\n\u001b[0;32m   1437\u001b[0m           ret = tf_session.TF_SessionRunCallable(\n\u001b[0;32m   1438\u001b[0m               \u001b[0mself\u001b[0m\u001b[1;33m.\u001b[0m\u001b[0m_session\u001b[0m\u001b[1;33m.\u001b[0m\u001b[0m_session\u001b[0m\u001b[1;33m,\u001b[0m \u001b[0mself\u001b[0m\u001b[1;33m.\u001b[0m\u001b[0m_handle\u001b[0m\u001b[1;33m,\u001b[0m \u001b[0margs\u001b[0m\u001b[1;33m,\u001b[0m \u001b[0mstatus\u001b[0m\u001b[1;33m,\u001b[0m\u001b[1;33m\u001b[0m\u001b[1;33m\u001b[0m\u001b[0m\n\u001b[1;32m-> 1439\u001b[1;33m               run_metadata_ptr)\n\u001b[0m\u001b[0;32m   1440\u001b[0m         \u001b[1;32mif\u001b[0m \u001b[0mrun_metadata\u001b[0m\u001b[1;33m:\u001b[0m\u001b[1;33m\u001b[0m\u001b[1;33m\u001b[0m\u001b[0m\n\u001b[0;32m   1441\u001b[0m           \u001b[0mproto_data\u001b[0m \u001b[1;33m=\u001b[0m \u001b[0mtf_session\u001b[0m\u001b[1;33m.\u001b[0m\u001b[0mTF_GetBuffer\u001b[0m\u001b[1;33m(\u001b[0m\u001b[0mrun_metadata_ptr\u001b[0m\u001b[1;33m)\u001b[0m\u001b[1;33m\u001b[0m\u001b[1;33m\u001b[0m\u001b[0m\n",
      "\u001b[1;31mKeyboardInterrupt\u001b[0m: "
     ]
    }
   ],
   "source": [
    "time_callback = TimeHistory()\n",
    "hist1bcont = model1b.fit(\n",
    "    train_data, train_labels, \n",
    "    batch_size=32,\n",
    "    epochs=10, \n",
    "    validation_split=0.2, \n",
    "#     validation_data = dev_data\n",
    "    verbose=1,\n",
    "    callbacks=[keras.callbacks.History(), time_callback]\n",
    ")\n",
    "print('\\nRMS error on validation set:', np.sqrt(hist1bcont.history['val_loss'][-1]) * 48)\n",
    "print('Total runtime (minutes):', round(np.sum(time_callback.times) / 60, 2))"
   ]
  },
  {
   "cell_type": "markdown",
   "metadata": {},
   "source": [
    "#### Model 1c"
   ]
  },
  {
   "cell_type": "code",
   "execution_count": 39,
   "metadata": {},
   "outputs": [],
   "source": [
    "model1c = build_CNN()"
   ]
  },
  {
   "cell_type": "code",
   "execution_count": 40,
   "metadata": {
    "ExecuteTime": {
     "end_time": "2018-11-27T14:50:09.505595Z",
     "start_time": "2018-11-27T14:48:58.449600Z"
    }
   },
   "outputs": [
    {
     "name": "stdout",
     "output_type": "stream",
     "text": [
      "Train on 9022 samples, validate on 2256 samples\n",
      "Epoch 1/10\n",
      " 736/9022 [=>............................] - ETA: 4:21 - loss: 4.0577"
     ]
    },
    {
     "ename": "KeyboardInterrupt",
     "evalue": "",
     "output_type": "error",
     "traceback": [
      "\u001b[1;31m---------------------------------------------------------------------------\u001b[0m",
      "\u001b[1;31mKeyboardInterrupt\u001b[0m                         Traceback (most recent call last)",
      "\u001b[1;32m<ipython-input-40-78f29a0b48ed>\u001b[0m in \u001b[0;36m<module>\u001b[1;34m\u001b[0m\n\u001b[0;32m     12\u001b[0m \u001b[1;31m#     validation_data = dev_data_set\u001b[0m\u001b[1;33m\u001b[0m\u001b[1;33m\u001b[0m\u001b[1;33m\u001b[0m\u001b[0m\n\u001b[0;32m     13\u001b[0m     \u001b[0mverbose\u001b[0m\u001b[1;33m=\u001b[0m\u001b[1;36m1\u001b[0m\u001b[1;33m,\u001b[0m\u001b[1;33m\u001b[0m\u001b[1;33m\u001b[0m\u001b[0m\n\u001b[1;32m---> 14\u001b[1;33m     \u001b[0mcallbacks\u001b[0m\u001b[1;33m=\u001b[0m\u001b[1;33m[\u001b[0m\u001b[0mkeras\u001b[0m\u001b[1;33m.\u001b[0m\u001b[0mcallbacks\u001b[0m\u001b[1;33m.\u001b[0m\u001b[0mHistory\u001b[0m\u001b[1;33m(\u001b[0m\u001b[1;33m)\u001b[0m\u001b[1;33m,\u001b[0m \u001b[0mtime_callback\u001b[0m\u001b[1;33m]\u001b[0m\u001b[1;33m\u001b[0m\u001b[1;33m\u001b[0m\u001b[0m\n\u001b[0m\u001b[0;32m     15\u001b[0m )\n\u001b[0;32m     16\u001b[0m \u001b[0mprint\u001b[0m\u001b[1;33m(\u001b[0m\u001b[1;34m'\\nRMS error on validation set:'\u001b[0m\u001b[1;33m,\u001b[0m \u001b[0mnp\u001b[0m\u001b[1;33m.\u001b[0m\u001b[0msqrt\u001b[0m\u001b[1;33m(\u001b[0m\u001b[0mhist1c\u001b[0m\u001b[1;33m.\u001b[0m\u001b[0mhistory\u001b[0m\u001b[1;33m[\u001b[0m\u001b[1;34m'val_loss'\u001b[0m\u001b[1;33m]\u001b[0m\u001b[1;33m[\u001b[0m\u001b[1;33m-\u001b[0m\u001b[1;36m1\u001b[0m\u001b[1;33m]\u001b[0m\u001b[1;33m)\u001b[0m \u001b[1;33m*\u001b[0m \u001b[1;36m48\u001b[0m\u001b[1;33m)\u001b[0m\u001b[1;33m\u001b[0m\u001b[1;33m\u001b[0m\u001b[0m\n",
      "\u001b[1;32m~\\Anaconda3\\envs\\tensorflowgpu\\lib\\site-packages\\keras\\engine\\training.py\u001b[0m in \u001b[0;36mfit\u001b[1;34m(self, x, y, batch_size, epochs, verbose, callbacks, validation_split, validation_data, shuffle, class_weight, sample_weight, initial_epoch, steps_per_epoch, validation_steps, **kwargs)\u001b[0m\n\u001b[0;32m   1037\u001b[0m                                         \u001b[0minitial_epoch\u001b[0m\u001b[1;33m=\u001b[0m\u001b[0minitial_epoch\u001b[0m\u001b[1;33m,\u001b[0m\u001b[1;33m\u001b[0m\u001b[1;33m\u001b[0m\u001b[0m\n\u001b[0;32m   1038\u001b[0m                                         \u001b[0msteps_per_epoch\u001b[0m\u001b[1;33m=\u001b[0m\u001b[0msteps_per_epoch\u001b[0m\u001b[1;33m,\u001b[0m\u001b[1;33m\u001b[0m\u001b[1;33m\u001b[0m\u001b[0m\n\u001b[1;32m-> 1039\u001b[1;33m                                         validation_steps=validation_steps)\n\u001b[0m\u001b[0;32m   1040\u001b[0m \u001b[1;33m\u001b[0m\u001b[0m\n\u001b[0;32m   1041\u001b[0m     def evaluate(self, x=None, y=None,\n",
      "\u001b[1;32m~\\Anaconda3\\envs\\tensorflowgpu\\lib\\site-packages\\keras\\engine\\training_arrays.py\u001b[0m in \u001b[0;36mfit_loop\u001b[1;34m(model, f, ins, out_labels, batch_size, epochs, verbose, callbacks, val_f, val_ins, shuffle, callback_metrics, initial_epoch, steps_per_epoch, validation_steps)\u001b[0m\n\u001b[0;32m    197\u001b[0m                     \u001b[0mins_batch\u001b[0m\u001b[1;33m[\u001b[0m\u001b[0mi\u001b[0m\u001b[1;33m]\u001b[0m \u001b[1;33m=\u001b[0m \u001b[0mins_batch\u001b[0m\u001b[1;33m[\u001b[0m\u001b[0mi\u001b[0m\u001b[1;33m]\u001b[0m\u001b[1;33m.\u001b[0m\u001b[0mtoarray\u001b[0m\u001b[1;33m(\u001b[0m\u001b[1;33m)\u001b[0m\u001b[1;33m\u001b[0m\u001b[1;33m\u001b[0m\u001b[0m\n\u001b[0;32m    198\u001b[0m \u001b[1;33m\u001b[0m\u001b[0m\n\u001b[1;32m--> 199\u001b[1;33m                 \u001b[0mouts\u001b[0m \u001b[1;33m=\u001b[0m \u001b[0mf\u001b[0m\u001b[1;33m(\u001b[0m\u001b[0mins_batch\u001b[0m\u001b[1;33m)\u001b[0m\u001b[1;33m\u001b[0m\u001b[1;33m\u001b[0m\u001b[0m\n\u001b[0m\u001b[0;32m    200\u001b[0m                 \u001b[0mouts\u001b[0m \u001b[1;33m=\u001b[0m \u001b[0mto_list\u001b[0m\u001b[1;33m(\u001b[0m\u001b[0mouts\u001b[0m\u001b[1;33m)\u001b[0m\u001b[1;33m\u001b[0m\u001b[1;33m\u001b[0m\u001b[0m\n\u001b[0;32m    201\u001b[0m                 \u001b[1;32mfor\u001b[0m \u001b[0ml\u001b[0m\u001b[1;33m,\u001b[0m \u001b[0mo\u001b[0m \u001b[1;32min\u001b[0m \u001b[0mzip\u001b[0m\u001b[1;33m(\u001b[0m\u001b[0mout_labels\u001b[0m\u001b[1;33m,\u001b[0m \u001b[0mouts\u001b[0m\u001b[1;33m)\u001b[0m\u001b[1;33m:\u001b[0m\u001b[1;33m\u001b[0m\u001b[1;33m\u001b[0m\u001b[0m\n",
      "\u001b[1;32m~\\Anaconda3\\envs\\tensorflowgpu\\lib\\site-packages\\keras\\backend\\tensorflow_backend.py\u001b[0m in \u001b[0;36m__call__\u001b[1;34m(self, inputs)\u001b[0m\n\u001b[0;32m   2713\u001b[0m                 \u001b[1;32mreturn\u001b[0m \u001b[0mself\u001b[0m\u001b[1;33m.\u001b[0m\u001b[0m_legacy_call\u001b[0m\u001b[1;33m(\u001b[0m\u001b[0minputs\u001b[0m\u001b[1;33m)\u001b[0m\u001b[1;33m\u001b[0m\u001b[1;33m\u001b[0m\u001b[0m\n\u001b[0;32m   2714\u001b[0m \u001b[1;33m\u001b[0m\u001b[0m\n\u001b[1;32m-> 2715\u001b[1;33m             \u001b[1;32mreturn\u001b[0m \u001b[0mself\u001b[0m\u001b[1;33m.\u001b[0m\u001b[0m_call\u001b[0m\u001b[1;33m(\u001b[0m\u001b[0minputs\u001b[0m\u001b[1;33m)\u001b[0m\u001b[1;33m\u001b[0m\u001b[1;33m\u001b[0m\u001b[0m\n\u001b[0m\u001b[0;32m   2716\u001b[0m         \u001b[1;32melse\u001b[0m\u001b[1;33m:\u001b[0m\u001b[1;33m\u001b[0m\u001b[1;33m\u001b[0m\u001b[0m\n\u001b[0;32m   2717\u001b[0m             \u001b[1;32mif\u001b[0m \u001b[0mpy_any\u001b[0m\u001b[1;33m(\u001b[0m\u001b[0mis_tensor\u001b[0m\u001b[1;33m(\u001b[0m\u001b[0mx\u001b[0m\u001b[1;33m)\u001b[0m \u001b[1;32mfor\u001b[0m \u001b[0mx\u001b[0m \u001b[1;32min\u001b[0m \u001b[0minputs\u001b[0m\u001b[1;33m)\u001b[0m\u001b[1;33m:\u001b[0m\u001b[1;33m\u001b[0m\u001b[1;33m\u001b[0m\u001b[0m\n",
      "\u001b[1;32m~\\Anaconda3\\envs\\tensorflowgpu\\lib\\site-packages\\keras\\backend\\tensorflow_backend.py\u001b[0m in \u001b[0;36m_call\u001b[1;34m(self, inputs)\u001b[0m\n\u001b[0;32m   2673\u001b[0m             \u001b[0mfetched\u001b[0m \u001b[1;33m=\u001b[0m \u001b[0mself\u001b[0m\u001b[1;33m.\u001b[0m\u001b[0m_callable_fn\u001b[0m\u001b[1;33m(\u001b[0m\u001b[1;33m*\u001b[0m\u001b[0marray_vals\u001b[0m\u001b[1;33m,\u001b[0m \u001b[0mrun_metadata\u001b[0m\u001b[1;33m=\u001b[0m\u001b[0mself\u001b[0m\u001b[1;33m.\u001b[0m\u001b[0mrun_metadata\u001b[0m\u001b[1;33m)\u001b[0m\u001b[1;33m\u001b[0m\u001b[1;33m\u001b[0m\u001b[0m\n\u001b[0;32m   2674\u001b[0m         \u001b[1;32melse\u001b[0m\u001b[1;33m:\u001b[0m\u001b[1;33m\u001b[0m\u001b[1;33m\u001b[0m\u001b[0m\n\u001b[1;32m-> 2675\u001b[1;33m             \u001b[0mfetched\u001b[0m \u001b[1;33m=\u001b[0m \u001b[0mself\u001b[0m\u001b[1;33m.\u001b[0m\u001b[0m_callable_fn\u001b[0m\u001b[1;33m(\u001b[0m\u001b[1;33m*\u001b[0m\u001b[0marray_vals\u001b[0m\u001b[1;33m)\u001b[0m\u001b[1;33m\u001b[0m\u001b[1;33m\u001b[0m\u001b[0m\n\u001b[0m\u001b[0;32m   2676\u001b[0m         \u001b[1;32mreturn\u001b[0m \u001b[0mfetched\u001b[0m\u001b[1;33m[\u001b[0m\u001b[1;33m:\u001b[0m\u001b[0mlen\u001b[0m\u001b[1;33m(\u001b[0m\u001b[0mself\u001b[0m\u001b[1;33m.\u001b[0m\u001b[0moutputs\u001b[0m\u001b[1;33m)\u001b[0m\u001b[1;33m]\u001b[0m\u001b[1;33m\u001b[0m\u001b[1;33m\u001b[0m\u001b[0m\n\u001b[0;32m   2677\u001b[0m \u001b[1;33m\u001b[0m\u001b[0m\n",
      "\u001b[1;32m~\\Anaconda3\\envs\\tensorflowgpu\\lib\\site-packages\\tensorflow\\python\\client\\session.py\u001b[0m in \u001b[0;36m__call__\u001b[1;34m(self, *args, **kwargs)\u001b[0m\n\u001b[0;32m   1437\u001b[0m           ret = tf_session.TF_SessionRunCallable(\n\u001b[0;32m   1438\u001b[0m               \u001b[0mself\u001b[0m\u001b[1;33m.\u001b[0m\u001b[0m_session\u001b[0m\u001b[1;33m.\u001b[0m\u001b[0m_session\u001b[0m\u001b[1;33m,\u001b[0m \u001b[0mself\u001b[0m\u001b[1;33m.\u001b[0m\u001b[0m_handle\u001b[0m\u001b[1;33m,\u001b[0m \u001b[0margs\u001b[0m\u001b[1;33m,\u001b[0m \u001b[0mstatus\u001b[0m\u001b[1;33m,\u001b[0m\u001b[1;33m\u001b[0m\u001b[1;33m\u001b[0m\u001b[0m\n\u001b[1;32m-> 1439\u001b[1;33m               run_metadata_ptr)\n\u001b[0m\u001b[0;32m   1440\u001b[0m         \u001b[1;32mif\u001b[0m \u001b[0mrun_metadata\u001b[0m\u001b[1;33m:\u001b[0m\u001b[1;33m\u001b[0m\u001b[1;33m\u001b[0m\u001b[0m\n\u001b[0;32m   1441\u001b[0m           \u001b[0mproto_data\u001b[0m \u001b[1;33m=\u001b[0m \u001b[0mtf_session\u001b[0m\u001b[1;33m.\u001b[0m\u001b[0mTF_GetBuffer\u001b[0m\u001b[1;33m(\u001b[0m\u001b[0mrun_metadata_ptr\u001b[0m\u001b[1;33m)\u001b[0m\u001b[1;33m\u001b[0m\u001b[1;33m\u001b[0m\u001b[0m\n",
      "\u001b[1;31mKeyboardInterrupt\u001b[0m: "
     ]
    }
   ],
   "source": [
    "# train the model with combined data set of original and \n",
    "# augmented images. \n",
    "# to just using 200 points here for speed:\n",
    "#idx = np.random.randint(0, len(train_data_set), 200)\n",
    "# train_data_set[idx], train_labels_set[idx]\n",
    "\n",
    "time_callback = TimeHistory()\n",
    "hist1c = model1c.fit(\n",
    "    train_data_set, train_labels_set,\n",
    "    batch_size=32,\n",
    "    epochs=10, \n",
    "    validation_split=0.2, \n",
    "#     validation_data = dev_data_set\n",
    "    verbose=1,\n",
    "    callbacks=[keras.callbacks.History(), time_callback]\n",
    ")\n",
    "print('\\nRMS error on validation set:', np.sqrt(hist1c.history['val_loss'][-1]) * 48)\n",
    "print('Total runtime (minutes):', round(np.sum(time_callback.times) / 60, 2))"
   ]
  },
  {
   "cell_type": "markdown",
   "metadata": {},
   "source": [
    "#### Model 2"
   ]
  },
  {
   "cell_type": "code",
   "execution_count": null,
   "metadata": {
    "ExecuteTime": {
     "end_time": "2018-11-27T14:46:15.643029Z",
     "start_time": "2018-11-27T14:46:15.350809Z"
    }
   },
   "outputs": [],
   "source": [
    "# augment some data or change a parameter\n",
    "model2 = build_CNN()\n",
    "plot_NN(model2)"
   ]
  },
  {
   "cell_type": "markdown",
   "metadata": {},
   "source": [
    "#### Visualize training improvement\n",
    "Doesn't look like an improvement, but it will once we train on the whole data sets"
   ]
  },
  {
   "cell_type": "code",
   "execution_count": null,
   "metadata": {
    "ExecuteTime": {
     "end_time": "2018-11-27T14:50:46.010123Z",
     "start_time": "2018-11-27T14:50:45.753804Z"
    }
   },
   "outputs": [],
   "source": [
    "val_rms1 = np.sqrt(hist1.history['val_loss']) * 48\n",
    "train_rms1 = np.sqrt(hist1.history['loss']) * 48\n",
    "val_rms2 = np.sqrt(hist2.history['val_loss']) * 48\n",
    "train_rms2 = np.sqrt(hist2.history['loss']) * 48\n",
    "\n",
    "plt.plot(val_rms1, 'g-')\n",
    "plt.plot(train_rms1, 'b-')\n",
    "plt.plot(val_rms2, 'g--')\n",
    "plt.plot(train_rms2, 'b--')\n",
    "plt.legend([\n",
    "    'val loss - model 1','training loss - model 1',\n",
    "    'val loss - model 2','training loss - model 2'\n",
    "])"
   ]
  },
  {
   "cell_type": "markdown",
   "metadata": {},
   "source": [
    "#### Seeing how well 4 epochs predicts..."
   ]
  },
  {
   "cell_type": "code",
   "execution_count": null,
   "metadata": {},
   "outputs": [],
   "source": [
    "test_data, test_labels = load_data(test=True)"
   ]
  },
  {
   "cell_type": "code",
   "execution_count": null,
   "metadata": {},
   "outputs": [],
   "source": [
    "pred = model.predict(test_data)\n",
    "pred[0]"
   ]
  },
  {
   "cell_type": "code",
   "execution_count": null,
   "metadata": {},
   "outputs": [],
   "source": [
    "idx = np.random.randint(0, len(test_data), 16)\n",
    "test_sample = test_data[idx, :, :, :]\n",
    "pred_sample = pred[idx, :]"
   ]
  },
  {
   "cell_type": "code",
   "execution_count": null,
   "metadata": {},
   "outputs": [],
   "source": [
    "plot_sample(test_sample, pred_sample)"
   ]
  },
  {
   "cell_type": "markdown",
   "metadata": {},
   "source": [
    "Looks like after 4 epochs, it is just plotting the very similar points for each image because it hasn't learned a lot. Nouri trains his CNN for 1000 epochs...going to take a long time"
   ]
  },
  {
   "cell_type": "markdown",
   "metadata": {},
   "source": [
    "#### Kaggle Output"
   ]
  },
  {
   "cell_type": "code",
   "execution_count": 50,
   "metadata": {},
   "outputs": [],
   "source": [
    "#Predict values for your chosen model\n",
    "pred = model1b.predict(test_data)"
   ]
  },
  {
   "cell_type": "code",
   "execution_count": 53,
   "metadata": {},
   "outputs": [],
   "source": [
    "# Get the list of required test points\n",
    "lookup = pd.read_csv('IdLookupTable.csv')"
   ]
  },
  {
   "cell_type": "code",
   "execution_count": 61,
   "metadata": {},
   "outputs": [],
   "source": [
    "#Match up the test points with the predicted values\n",
    "\n",
    "labelNums = {}\n",
    "for index, label in enumerate(train.columns.values):\n",
    "    labelNums[label] = index\n",
    "    \n",
    "lookup['FeatureNum'] = lookup.apply(lambda row: labelNums[row['FeatureName']], axis=1)\n",
    "lookup.Location =  np.minimum(96,np.maximum(0,pred[lookup.ImageId-1,lookup.FeatureNum]*48 + 48))"
   ]
  },
  {
   "cell_type": "code",
   "execution_count": 62,
   "metadata": {},
   "outputs": [],
   "source": [
    "# save the rowid and the associated location to a csv\n",
    "\n",
    "lookup.to_csv(path_or_buf='kagglesubmission.csv',columns=['RowId','Location'],index=False)"
   ]
  },
  {
   "cell_type": "markdown",
   "metadata": {},
   "source": [
    "To submit, run:\n",
    "kaggle competitions submit -c facial-keypoints-detection -f submission.csv -m \"Message\""
   ]
  },
  {
   "cell_type": "markdown",
   "metadata": {},
   "source": [
    "## Conclusion"
   ]
  },
  {
   "cell_type": "markdown",
   "metadata": {},
   "source": [
    "Put a conclusion here comparing and contrasting the models and how well we did on Kaggle"
   ]
  },
  {
   "cell_type": "markdown",
   "metadata": {},
   "source": [
    "## Appendix"
   ]
  },
  {
   "cell_type": "markdown",
   "metadata": {},
   "source": [
    "### Daniel Nouri model transferred to Keras (as best as I could)"
   ]
  },
  {
   "cell_type": "code",
   "execution_count": null,
   "metadata": {},
   "outputs": [],
   "source": [
    "# making a callback so I can compare runtimes\n",
    "class TimeHistory(keras.callbacks.Callback):\n",
    "    def on_train_begin(self, logs={}):\n",
    "        self.times = []\n",
    "\n",
    "    def on_epoch_begin(self, batch, logs={}):\n",
    "        self.epoch_time_start = time.time()\n",
    "\n",
    "    def on_epoch_end(self, batch, logs={}):\n",
    "        self.times.append(time.time() - self.epoch_time_start)"
   ]
  },
  {
   "cell_type": "code",
   "execution_count": null,
   "metadata": {},
   "outputs": [],
   "source": [
    "model = Sequential()\n",
    "\n",
    "# first group of layers\n",
    "model.add(Conv2D(\n",
    "    32, \n",
    "    kernel_size=(3,3), \n",
    "    activation='relu',\n",
    "    input_shape=(96, 96, 1), \n",
    "#     data_format='channels_first'\n",
    "))\n",
    "model.add(MaxPooling2D(pool_size=(2, 2)))\n",
    "\n",
    "# second group of layers\n",
    "model.add(Conv2D(\n",
    "    64, \n",
    "    kernel_size=(2, 2), \n",
    "    activation='relu'\n",
    "))\n",
    "model.add(MaxPooling2D(pool_size=(2, 2)))\n",
    "\n",
    "# third group of layers\n",
    "model.add(Conv2D(\n",
    "    128, \n",
    "    kernel_size=(2, 2), \n",
    "    activation='relu'\n",
    "))\n",
    "model.add(MaxPooling2D(pool_size=(2, 2)))\n",
    "\n",
    "model.add(Flatten())\n",
    "model.add(Dense(500, activation='relu'))\n",
    "model.add(Dense(500, activation='relu'))\n",
    "model.add(Dense(30))\n",
    "\n",
    "sgd = keras.optimizers.SGD(lr=0.01, decay=1e-6, momentum=0.9, nesterov=True)\n",
    "model.compile(loss='mean_squared_error', optimizer=sgd)"
   ]
  },
  {
   "cell_type": "code",
   "execution_count": null,
   "metadata": {},
   "outputs": [],
   "source": [
    "time_callback = TimeHistory()\n",
    "hist = model.fit(\n",
    "    train_data, train_labels, \n",
    "    batch_size=32,\n",
    "    epochs=4,\n",
    "    validation_split=0.2, \n",
    "    verbose=1,\n",
    "    callbacks=[keras.callbacks.History(), time_callback]\n",
    ")\n",
    "print('RMS error on validation set:', np.sqrt(hist.history['val_loss'][-1]) * 48)\n",
    "print('Total runtime (minutes):', round(np.sum(time_callback.times) / 60, 2))"
   ]
  },
  {
   "cell_type": "markdown",
   "metadata": {},
   "source": [
    "### Alex trying to understand..."
   ]
  },
  {
   "cell_type": "code",
   "execution_count": null,
   "metadata": {},
   "outputs": [],
   "source": [
    "model = Sequential()\n",
    "\n",
    "# FIRST CONVOLUTIONAL LAYER\n",
    "model.add(Conv2D(\n",
    "    filters=32, # don't yet fully understand how to choose this dimension\n",
    "    kernel_size=(3,3),\n",
    "    strides=(1,1),\n",
    "    padding='same',\n",
    "    activation='relu',\n",
    "    input_shape=(96, 96, 1),\n",
    "))\n",
    "# input_shape = (batch, rows, cols, channels) --> (batch, 96, 96, 1)\n",
    "# padding = 'same' so for a kernel of size (3,3) and strides=(1,1) this \n",
    "# will pad two rows and two columns of zeros on the edges so that the \n",
    "# output shape gives an tensor with 96 rows and 96 columns\n",
    "# output_shape = (batch, new_rows, new_cols, filters) --> (batch, 96, 96, 32)\n",
    "\n",
    "# POOLING LAYER\n",
    "model.add(MaxPooling2D(\n",
    "    pool_size=(2,2),\n",
    "    strides=None\n",
    "))\n",
    "# setting strides=None sets the strides to a default of pool_size, so \n",
    "# here we are really setting strides=(2,2) which is what we want so we \n",
    "# don't miss any pixels and we don't count any pixels more than once\n",
    "# the strides is essentially the factor by which to downscale the output\n",
    "# so setting the strides=(2,2) will have the dimensions of input\n",
    "# output_shape = (batch, in_rows/strides[0], in_cols/strides[1], filters) --> (batch, 48, 48, 32)\n",
    "\n",
    "\n",
    "# SECOND CONVOLUTIONAL LAYER\n",
    "model.add(Conv2D(\n",
    "    filters=64, # don't know why we increased this number by 2\n",
    "#     kernel_size=(2, 2),\n",
    "    kernel_size=(3, 3),\n",
    "    strides=(1,1),\n",
    "    padding='same',\n",
    "    activation='relu'\n",
    "))\n",
    "# input_shape = (batch, pool_rows, pool_cols, in_filters) --> (batch, 48, 48, 32)\n",
    "# output_shape = (batch, new_rows, new_cols, out_filters) --> (batch, 48, 48, 64)\n",
    "\n",
    "# SECOND POOLING LAYER\n",
    "model.add(MaxPooling2D(\n",
    "    pool_size=(2, 2), \n",
    "    strides=None\n",
    "))\n",
    "# input_shape = (batch, in_rows, in_cols, filters) --> (batch, 48, 48, 64)\n",
    "# output_shape = (batch, in_rows/strides[0], in_cols/strides[1], filters) --> (batch, 24, 24, 64)\n",
    "\n",
    "# THIRD CONVOLUTIONAL LAYER\n",
    "model.add(Conv2D(\n",
    "    filters=128, # don't know how to choose this value\n",
    "#     kernel_size=(2, 2),\n",
    "    kernel_size=(3, 3),\n",
    "    strides=(1,1),\n",
    "    padding='same',\n",
    "    activation='relu'\n",
    "))\n",
    "# input_shape = (batch, pool_rows, pool_cols, in_filters) --> (batch, 24, 24, 64)\n",
    "# output_shape = (batch, new_rows, new_cols, out_filters) --> (batch, 24, 24, 128)\n",
    "\n",
    "# THIRD POOLING LAYER\n",
    "model.add(MaxPooling2D(\n",
    "    pool_size=(2, 2),\n",
    "    strides=None\n",
    "))\n",
    "# input_shape = (batch, in_rows, in_cols, filters) --> (batch, 24, 24, 128)\n",
    "# output_shape = (batch, in_rows/strides[0], in_cols/strides[1], filters) --> (batch, 12, 12, 128)\n",
    "\n",
    "# FLATTEN THE POOLED OUTPUT TO CLASSIFY\n",
    "model.add(Flatten())\n",
    "# flatten the output into a single layer of \n",
    "#     shape = [batch, pool_rows * pool_cols * in_filters]\n",
    "#         --> [batch, 12 * 12 * 128] = [batch, 18432]\n",
    "\n",
    "# ADD ONE FULLY CONNECTED LAYER TO PROCESS THE FLATTENED DATA\n",
    "model.add(Dense(\n",
    "#     500,\n",
    "    1000,\n",
    "    activation='relu'\n",
    "))\n",
    "# input_shape = [batch, flattened_nodes] = [batch, 18432]\n",
    "# output_shape = [batch, out_nodes] = [batch, 500]\n",
    "\n",
    "# FINAL OUTPUT LAYER\n",
    "model.add(Dense(30))\n",
    "# input_shape = [batch, in_nodes] = [batch, 500]\n",
    "# output_shape = [batch, num_classes] = [batch, 30]\n",
    "\n",
    "# sgd = keras.optimizers.SGD(lr=0.01, decay=1e-6, momentum=0.9, nesterov=True)\n",
    "adam = keras.optimizers.Adam()\n",
    "model.compile(loss='mean_squared_error', optimizer=Adam)"
   ]
  },
  {
   "cell_type": "code",
   "execution_count": null,
   "metadata": {},
   "outputs": [],
   "source": [
    "time_callback = TimeHistory()\n",
    "hist = model.fit(\n",
    "    train_data, train_labels, \n",
    "    batch_size=32,\n",
    "    epochs=4, \n",
    "    validation_split=0.2, \n",
    "    verbose=1,\n",
    "    callbacks=[keras.callbacks.History(), time_callback]\n",
    ")\n",
    "print('\\nRMS error on validation set:', np.sqrt(hist.history['val_loss'][-1]) * 48)\n",
    "print('Total runtime (minutes):', round(np.sum(time_callback.times) / 60, 2))"
   ]
  },
  {
   "cell_type": "markdown",
   "metadata": {},
   "source": [
    "Changed the kernel size in the second two layers to (3,3), almost doubled the training time, didn't improve the error by a lot"
   ]
  }
 ],
 "metadata": {
  "kernelspec": {
   "display_name": "Python (tensorflowgpu)",
   "language": "python",
   "name": "tensorflowgpu"
  },
  "language_info": {
   "codemirror_mode": {
    "name": "ipython",
    "version": 3
   },
   "file_extension": ".py",
   "mimetype": "text/x-python",
   "name": "python",
   "nbconvert_exporter": "python",
   "pygments_lexer": "ipython3",
   "version": "3.6.7"
  },
  "latex_envs": {
   "LaTeX_envs_menu_present": true,
   "autoclose": false,
   "autocomplete": true,
   "bibliofile": "biblio.bib",
   "cite_by": "apalike",
   "current_citInitial": 1,
   "eqLabelWithNumbers": true,
   "eqNumInitial": 1,
   "hotkeys": {
    "equation": "Ctrl-E",
    "itemize": "Ctrl-I"
   },
   "labels_anchors": false,
   "latex_user_defs": false,
   "report_style_numbering": false,
   "user_envs_cfg": false
  },
  "varInspector": {
   "cols": {
    "lenName": 16,
    "lenType": 16,
    "lenVar": 40
   },
   "kernels_config": {
    "python": {
     "delete_cmd_postfix": "",
     "delete_cmd_prefix": "del ",
     "library": "var_list.py",
     "varRefreshCmd": "print(var_dic_list())"
    },
    "r": {
     "delete_cmd_postfix": ") ",
     "delete_cmd_prefix": "rm(",
     "library": "var_list.r",
     "varRefreshCmd": "cat(var_dic_list()) "
    }
   },
   "types_to_exclude": [
    "module",
    "function",
    "builtin_function_or_method",
    "instance",
    "_Feature"
   ],
   "window_display": false
  }
 },
 "nbformat": 4,
 "nbformat_minor": 2
}
